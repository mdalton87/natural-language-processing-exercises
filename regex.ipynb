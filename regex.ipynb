{
 "cells": [
  {
   "cell_type": "code",
   "execution_count": 4,
   "metadata": {},
   "outputs": [],
   "source": [
    "import pandas as pd\n",
    "import re"
   ]
  },
  {
   "cell_type": "markdown",
   "metadata": {},
   "source": [
    "#### 1. Write a function named is_vowel. It should accept a string as input and use a regular expression to determine if the passed string is a vowel. While not explicity mentioned in the lesson, you can treat the result of re.search as a boolean value that indicates whether or not the regular expression matches the given string."
   ]
  },
  {
   "cell_type": "code",
   "execution_count": 2,
   "metadata": {},
   "outputs": [],
   "source": [
    "def is_vowel(subject):\n",
    "    '''\n",
    "    Description:\n",
    "    -----------\n",
    "    The function accepts a string and finds if there is a vowel present\n",
    "    \n",
    "    Parameters:\n",
    "    ----------\n",
    "    subject: str\n",
    "        The string to have regex set applied to it.\n",
    "    '''\n",
    "    # identifies the vowels in the alphabet\n",
    "    regexp = r'^[aeiou]$'\n",
    "    # looks for vowels in the string, subject\n",
    "    if re.search(regexp, subject.lower()):\n",
    "        print('I found a vowel!')\n",
    "    else:\n",
    "        print('No vowel here!')"
   ]
  },
  {
   "cell_type": "code",
   "execution_count": 3,
   "metadata": {},
   "outputs": [
    {
     "name": "stdout",
     "output_type": "stream",
     "text": [
      "No vowel here!\n"
     ]
    }
   ],
   "source": [
    "is_vowel('ee')"
   ]
  },
  {
   "cell_type": "markdown",
   "metadata": {},
   "source": [
    "#### 2. Write a function named ```is_valid_username``` that accepts a string as input. A valid username starts with a lowercase letter, and only consists of lowercase letters, numbers, or the _ character. It should also be no longer than 32 characters. The function should return either True or False depending on whether the passed string is a valid username."
   ]
  },
  {
   "cell_type": "code",
   "execution_count": 4,
   "metadata": {},
   "outputs": [
    {
     "name": "stdout",
     "output_type": "stream",
     "text": [
      "something is wrong\n"
     ]
    }
   ],
   "source": [
    "# Testing regexp on various strings to use in function \n",
    "\n",
    "regexp = r'^[a-z]\\w{1,31}$'\n",
    "subject = 'dfoajnsd_dehgfhsfhsgfjdyhksdf12_4'\n",
    "\n",
    "if re.search(regexp, subject):\n",
    "    print('yup')\n",
    "else:\n",
    "    print('something is wrong')"
   ]
  },
  {
   "cell_type": "code",
   "execution_count": 5,
   "metadata": {},
   "outputs": [
    {
     "data": {
      "text/plain": [
       "33"
      ]
     },
     "execution_count": 5,
     "metadata": {},
     "output_type": "execute_result"
    }
   ],
   "source": [
    "len(subject)"
   ]
  },
  {
   "cell_type": "code",
   "execution_count": 6,
   "metadata": {},
   "outputs": [
    {
     "data": {
      "text/plain": [
       "'dfoajnsd_dehgfhsfhsgfjdyhksdf12_'"
      ]
     },
     "execution_count": 6,
     "metadata": {},
     "output_type": "execute_result"
    }
   ],
   "source": [
    "subject[:32]"
   ]
  },
  {
   "cell_type": "code",
   "execution_count": 7,
   "metadata": {},
   "outputs": [],
   "source": [
    "def is_valid_username(username):\n",
    "    '''\n",
    "    Description:\n",
    "    -----------\n",
    "    Tests whether a username is valid:\n",
    "    \n",
    "    Parameters:\n",
    "    ----------\n",
    "    username: str\n",
    "        This string must start with a lowercase,\n",
    "        use only underscores and alphanumeric characters, and \n",
    "        not excede 32 characters total.\n",
    "    '''\n",
    "    # reg expression highlighing the way usernames should be formatted\n",
    "    regexp = r'^[a-z]\\w{1,31}$'\n",
    "    \n",
    "    # prints if username is valid or invalid\n",
    "    if re.search(regexp, username):\n",
    "        print('This is a valid username')\n",
    "    else:\n",
    "        print('Username is invalid')\n",
    "        "
   ]
  },
  {
   "cell_type": "code",
   "execution_count": 8,
   "metadata": {},
   "outputs": [
    {
     "name": "stdout",
     "output_type": "stream",
     "text": [
      "Username is invalid\n",
      "This is a valid username\n",
      "Username is invalid\n",
      "This is a valid username\n",
      "Username is invalid\n"
     ]
    }
   ],
   "source": [
    "is_valid_username('aaaaaaaaaaaaaaaaaaaaaaaaaaaaaaaaa'),\n",
    "is_valid_username('codeup'),\n",
    "is_valid_username('Codeup'),\n",
    "is_valid_username('codeup123'),\n",
    "is_valid_username('1codeup')"
   ]
  },
  {
   "cell_type": "markdown",
   "metadata": {},
   "source": [
    "#### 3. Write a regular expression to capture phone numbers. It should match all of the following:\n",
    "\n",
    "```\n",
    "(210) 867 5309\n",
    "+1 210.867.5309\n",
    "867-5309\n",
    "210-867-5309\n",
    "```"
   ]
  },
  {
   "cell_type": "code",
   "execution_count": 9,
   "metadata": {},
   "outputs": [
    {
     "data": {
      "text/plain": [
       "<re.Match object; span=(0, 14), match='(210) 867 5309'>"
      ]
     },
     "execution_count": 9,
     "metadata": {},
     "output_type": "execute_result"
    }
   ],
   "source": [
    "regexp = r'.*?\\d{3}?.*?\\d{3}.*\\d{4}$'\n",
    "subject = '(210) 867 5309'\n",
    "\n",
    "re.match(regexp, subject)"
   ]
  },
  {
   "cell_type": "markdown",
   "metadata": {},
   "source": [
    "#### 4. Use regular expressions to convert the dates below to the standardized year-month-day format.\n",
    "\n",
    "```\n",
    "02/04/19\n",
    "02/05/19\n",
    "02/06/19\n",
    "02/07/19\n",
    "02/08/19\n",
    "02/09/19\n",
    "02/10/19\n",
    "```"
   ]
  },
  {
   "cell_type": "code",
   "execution_count": 10,
   "metadata": {},
   "outputs": [],
   "source": [
    "dates = pd.Series(['02/04/19',\n",
    "'02/05/19',\n",
    "'02/06/19',\n",
    "'02/07/19',\n",
    "'02/08/19',\n",
    "'02/09/19',\n",
    "'02/10/19'])"
   ]
  },
  {
   "cell_type": "code",
   "execution_count": 11,
   "metadata": {},
   "outputs": [
    {
     "data": {
      "text/plain": [
       "0    2019-02-04\n",
       "1    2019-02-05\n",
       "2    2019-02-06\n",
       "3    2019-02-07\n",
       "4    2019-02-08\n",
       "5    2019-02-09\n",
       "6    2019-02-10\n",
       "dtype: object"
      ]
     },
     "execution_count": 11,
     "metadata": {},
     "output_type": "execute_result"
    }
   ],
   "source": [
    "regexp = r'(\\d{2})/(\\d{2})/(\\d{2})'\n",
    "subject = '02/04/19'\n",
    "\n",
    "dates = dates.str.replace(regexp, r'20\\3-\\1-\\2', regex=True)\n",
    "dates"
   ]
  },
  {
   "cell_type": "markdown",
   "metadata": {},
   "source": [
    "#### 5. Write a regex to extract the various parts of these logfile lines:\n",
    "\n",
    "```\n",
    "GET /api/v1/sales?page=86 [16/Apr/2019:193452+0000] HTTP/1.1 {200} 510348 \"python-requests/2.21.0\" 97.105.19.58\n",
    "\n",
    "POST /users_accounts/file-upload [16/Apr/2019:193452+0000] HTTP/1.1 {201} 42 \"User-Agent: Mozilla/5.0 (X11; Fedora; Fedora; Linux x86_64) AppleWebKit/537.36 (KHTML, like Gecko) Chrome/73.0.3683.86 Safari/537.36\" 97.105.19.58\n",
    "\n",
    "GET /api/v1/items?page=3 [16/Apr/2019:193453+0000] HTTP/1.1 {429} 3561 \"python-requests/2.21.0\" 97.105.19.58\n",
    "```"
   ]
  },
  {
   "cell_type": "code",
   "execution_count": 12,
   "metadata": {},
   "outputs": [],
   "source": [
    "log_files = '''\n",
    "'GET /api/v1/sales?page=86 [16/Apr/2019:193452+0000] HTTP/1.1 {200} 510348 \"python-requests/2.21.0\" 97.105.19.58'\n",
    " 'POST /users_accounts/file-upload [16/Apr/2019:193452+0000] HTTP/1.1 {201} 42 \"User-Agent: Mozilla/5.0 (X11; Fedora; Fedora; Linux x86_64) AppleWebKit/537.36 (KHTML, like Gecko) Chrome/73.0.3683.86 Safari/537.36\" 97.105.19.58'\n",
    " 'GET /api/v1/items?page=3 [16/Apr/2019:193453+0000] HTTP/1.1 {429} 3561 \"python-requests/2.21.0\" 97.105.19.58'\n",
    "'''\n",
    "method = r'^[A-Z][A-Z]{2,4}'\n",
    "\n",
    "\n",
    "regexp = r'(?P<method>[A-Z]+)\\s(?P<path>.*?)\\s\\[(?P<date>.*?):(?P<time>.*?)\\]\\s(?P<http_version>HTTP.*)\\s\\{(?P<status>\\d+)\\}\\s(?P<file_size_bytes>\\d+)\\s\"(?P<user_agent>.*?)\"\\s(?P<ip>.*?)$'\n"
   ]
  },
  {
   "cell_type": "code",
   "execution_count": 13,
   "metadata": {},
   "outputs": [
    {
     "data": {
      "text/plain": [
       "[('GET',\n",
       "  '/api/v1/items?page=3',\n",
       "  '16/Apr/2019',\n",
       "  '193453+0000',\n",
       "  'HTTP/1.1',\n",
       "  '429',\n",
       "  '3561',\n",
       "  'python-requests/2.21.0',\n",
       "  \"97.105.19.58'\")]"
      ]
     },
     "execution_count": 13,
     "metadata": {},
     "output_type": "execute_result"
    }
   ],
   "source": [
    "re.findall(regexp, log_files)"
   ]
  },
  {
   "cell_type": "markdown",
   "metadata": {},
   "source": [
    "#### - How many words contain the same letter 3 times in a row?"
   ]
  },
  {
   "cell_type": "code",
   "execution_count": 14,
   "metadata": {},
   "outputs": [],
   "source": [
    "regexp = re.compile(regexp, re.VERBOSE)"
   ]
  },
  {
   "cell_type": "code",
   "execution_count": 15,
   "metadata": {},
   "outputs": [
    {
     "data": {
      "text/html": [
       "<div>\n",
       "<style scoped>\n",
       "    .dataframe tbody tr th:only-of-type {\n",
       "        vertical-align: middle;\n",
       "    }\n",
       "\n",
       "    .dataframe tbody tr th {\n",
       "        vertical-align: top;\n",
       "    }\n",
       "\n",
       "    .dataframe thead th {\n",
       "        text-align: right;\n",
       "    }\n",
       "</style>\n",
       "<table border=\"1\" class=\"dataframe\">\n",
       "  <thead>\n",
       "    <tr style=\"text-align: right;\">\n",
       "      <th></th>\n",
       "      <th>method</th>\n",
       "      <th>path</th>\n",
       "      <th>date</th>\n",
       "      <th>time</th>\n",
       "      <th>http_version</th>\n",
       "      <th>status</th>\n",
       "      <th>file_size_bytes</th>\n",
       "      <th>user_agent</th>\n",
       "      <th>ip</th>\n",
       "    </tr>\n",
       "  </thead>\n",
       "  <tbody>\n",
       "    <tr>\n",
       "      <th>0</th>\n",
       "      <td>GET</td>\n",
       "      <td>/api/v1/sales?page=86</td>\n",
       "      <td>16/Apr/2019</td>\n",
       "      <td>193452+0000</td>\n",
       "      <td>HTTP/1.1</td>\n",
       "      <td>200</td>\n",
       "      <td>510348</td>\n",
       "      <td>python-requests/2.21.0</td>\n",
       "      <td>97.105.19.58'</td>\n",
       "    </tr>\n",
       "    <tr>\n",
       "      <th>1</th>\n",
       "      <td>POST</td>\n",
       "      <td>/users_accounts/file-upload</td>\n",
       "      <td>16/Apr/2019</td>\n",
       "      <td>193452+0000</td>\n",
       "      <td>HTTP/1.1</td>\n",
       "      <td>201</td>\n",
       "      <td>42</td>\n",
       "      <td>User-Agent: Mozilla/5.0 (X11; Fedora; Fedora; ...</td>\n",
       "      <td>97.105.19.58'</td>\n",
       "    </tr>\n",
       "    <tr>\n",
       "      <th>2</th>\n",
       "      <td>GET</td>\n",
       "      <td>/api/v1/items?page=3</td>\n",
       "      <td>16/Apr/2019</td>\n",
       "      <td>193453+0000</td>\n",
       "      <td>HTTP/1.1</td>\n",
       "      <td>429</td>\n",
       "      <td>3561</td>\n",
       "      <td>python-requests/2.21.0</td>\n",
       "      <td>97.105.19.58'</td>\n",
       "    </tr>\n",
       "  </tbody>\n",
       "</table>\n",
       "</div>"
      ],
      "text/plain": [
       "  method                         path         date         time http_version  \\\n",
       "0    GET        /api/v1/sales?page=86  16/Apr/2019  193452+0000     HTTP/1.1   \n",
       "1   POST  /users_accounts/file-upload  16/Apr/2019  193452+0000     HTTP/1.1   \n",
       "2    GET         /api/v1/items?page=3  16/Apr/2019  193453+0000     HTTP/1.1   \n",
       "\n",
       "  status file_size_bytes                                         user_agent  \\\n",
       "0    200          510348                             python-requests/2.21.0   \n",
       "1    201              42  User-Agent: Mozilla/5.0 (X11; Fedora; Fedora; ...   \n",
       "2    429            3561                             python-requests/2.21.0   \n",
       "\n",
       "              ip  \n",
       "0  97.105.19.58'  \n",
       "1  97.105.19.58'  \n",
       "2  97.105.19.58'  "
      ]
     },
     "execution_count": 15,
     "metadata": {},
     "output_type": "execute_result"
    }
   ],
   "source": [
    "lines = pd.Series(log_files.strip().split('\\n'))\n",
    "lines.str.extract(regexp)"
   ]
  },
  {
   "cell_type": "markdown",
   "metadata": {},
   "source": [
    "#### Bonus: You can find a list of words on your mac at ```/usr/share/dict/words```. Use this file to answer the following questions:\n",
    "```\n",
    "- How many words have at least 3 vowels?\n",
    "- How many words have at least 3 vowels in a row?\n",
    "- How many words have at least 4 consonants in a row?\n",
    "- How many words start and end with the same letter?\n",
    "- How many words start and end with a vowel?\n",
    "- How many words contain the same letter 3 times in a row?\n",
    "- What other interesting patterns in words can you find?\n",
    "```"
   ]
  },
  {
   "cell_type": "code",
   "execution_count": 16,
   "metadata": {},
   "outputs": [
    {
     "data": {
      "text/html": [
       "<div>\n",
       "<style scoped>\n",
       "    .dataframe tbody tr th:only-of-type {\n",
       "        vertical-align: middle;\n",
       "    }\n",
       "\n",
       "    .dataframe tbody tr th {\n",
       "        vertical-align: top;\n",
       "    }\n",
       "\n",
       "    .dataframe thead th {\n",
       "        text-align: right;\n",
       "    }\n",
       "</style>\n",
       "<table border=\"1\" class=\"dataframe\">\n",
       "  <thead>\n",
       "    <tr style=\"text-align: right;\">\n",
       "      <th></th>\n",
       "      <th>A</th>\n",
       "    </tr>\n",
       "  </thead>\n",
       "  <tbody>\n",
       "    <tr>\n",
       "      <th>234964</th>\n",
       "      <td>zagged</td>\n",
       "    </tr>\n",
       "    <tr>\n",
       "      <th>160232</th>\n",
       "      <td>purchasable</td>\n",
       "    </tr>\n",
       "    <tr>\n",
       "      <th>96370</th>\n",
       "      <td>interlucent</td>\n",
       "    </tr>\n",
       "    <tr>\n",
       "      <th>14146</th>\n",
       "      <td>ash</td>\n",
       "    </tr>\n",
       "    <tr>\n",
       "      <th>43012</th>\n",
       "      <td>cordyl</td>\n",
       "    </tr>\n",
       "    <tr>\n",
       "      <th>114623</th>\n",
       "      <td>mester</td>\n",
       "    </tr>\n",
       "    <tr>\n",
       "      <th>159641</th>\n",
       "      <td>puckball</td>\n",
       "    </tr>\n",
       "    <tr>\n",
       "      <th>26312</th>\n",
       "      <td>Brighteyes</td>\n",
       "    </tr>\n",
       "    <tr>\n",
       "      <th>120201</th>\n",
       "      <td>muckraker</td>\n",
       "    </tr>\n",
       "    <tr>\n",
       "      <th>232573</th>\n",
       "      <td>winebibbery</td>\n",
       "    </tr>\n",
       "  </tbody>\n",
       "</table>\n",
       "</div>"
      ],
      "text/plain": [
       "                  A\n",
       "234964       zagged\n",
       "160232  purchasable\n",
       "96370   interlucent\n",
       "14146           ash\n",
       "43012        cordyl\n",
       "114623       mester\n",
       "159641     puckball\n",
       "26312    Brighteyes\n",
       "120201    muckraker\n",
       "232573  winebibbery"
      ]
     },
     "execution_count": 16,
     "metadata": {},
     "output_type": "execute_result"
    }
   ],
   "source": [
    "words = pd.read_csv('/usr/share/dict/words')\n",
    "words.sample(10)"
   ]
  },
  {
   "cell_type": "code",
   "execution_count": 17,
   "metadata": {},
   "outputs": [
    {
     "data": {
      "text/plain": [
       "235885"
      ]
     },
     "execution_count": 17,
     "metadata": {},
     "output_type": "execute_result"
    }
   ],
   "source": [
    "len(words)"
   ]
  },
  {
   "cell_type": "markdown",
   "metadata": {},
   "source": [
    "#### How many words have at least 3 vowels?"
   ]
  },
  {
   "cell_type": "code",
   "execution_count": 18,
   "metadata": {},
   "outputs": [],
   "source": [
    "words = words.dropna()"
   ]
  },
  {
   "cell_type": "code",
   "execution_count": 19,
   "metadata": {},
   "outputs": [
    {
     "name": "stdout",
     "output_type": "stream",
     "text": [
      "The number of words with at least 3 vowels is: 190293\n"
     ]
    }
   ],
   "source": [
    "regexp = r'.*[aeiou].*[aeiou].*[aeiou].*'\n",
    "count = 0\n",
    "for word in list(words['A']):\n",
    "    if re.findall(regexp, word):\n",
    "        count = count + 1\n",
    "    else:\n",
    "        count = count\n",
    "\n",
    "print(f'The number of words with at least 3 vowels is: {count}')"
   ]
  },
  {
   "cell_type": "markdown",
   "metadata": {},
   "source": [
    "#### How many words have at least 3 vowels in a row?"
   ]
  },
  {
   "cell_type": "code",
   "execution_count": 20,
   "metadata": {},
   "outputs": [
    {
     "data": {
      "text/plain": [
       "['aaaa']"
      ]
     },
     "execution_count": 20,
     "metadata": {},
     "output_type": "execute_result"
    }
   ],
   "source": [
    "regexp = r'.*[aeiou]{3,}.*'\n",
    "subject = 'aaaa'\n",
    "\n",
    "re.findall(regexp, subject)"
   ]
  },
  {
   "cell_type": "code",
   "execution_count": 21,
   "metadata": {},
   "outputs": [
    {
     "name": "stdout",
     "output_type": "stream",
     "text": [
      "The number of words with 3 consecutive vowels is: 6156\n"
     ]
    }
   ],
   "source": [
    "regexp = r'.*[aeiou]{3,}.*'\n",
    "count = 0\n",
    "for word in list(words['A']):\n",
    "    if re.findall(regexp, word):\n",
    "        count = count + 1\n",
    "    else:\n",
    "        count = count\n",
    "\n",
    "print(f'The number of words with 3 consecutive vowels is: {count}')"
   ]
  },
  {
   "cell_type": "markdown",
   "metadata": {},
   "source": [
    "#### - How many words have at least 4 consonants in a row?"
   ]
  },
  {
   "cell_type": "code",
   "execution_count": 22,
   "metadata": {},
   "outputs": [
    {
     "name": "stdout",
     "output_type": "stream",
     "text": [
      "The number of words with 4 consecutive conconants is: 19743\n"
     ]
    }
   ],
   "source": [
    "regexp = r'.*[^aeiou]{4,}.*'\n",
    "count = 0\n",
    "for word in list(words['A']):\n",
    "    if re.findall(regexp, word):\n",
    "        count = count + 1\n",
    "    else:\n",
    "        count = count\n",
    "\n",
    "print(f'The number of words with 4 consecutive conconants is: {count}')"
   ]
  },
  {
   "cell_type": "markdown",
   "metadata": {},
   "source": [
    "#### - How many words start and end with the same letter?"
   ]
  },
  {
   "cell_type": "code",
   "execution_count": 23,
   "metadata": {},
   "outputs": [
    {
     "data": {
      "text/plain": [
       "['m']"
      ]
     },
     "execution_count": 23,
     "metadata": {},
     "output_type": "execute_result"
    }
   ],
   "source": [
    "regexp = r'(^[a-z]).*\\1$'\n",
    "subject = 'mamaam'\n",
    "\n",
    "re.findall(regexp, subject)"
   ]
  },
  {
   "cell_type": "code",
   "execution_count": 24,
   "metadata": {},
   "outputs": [
    {
     "name": "stdout",
     "output_type": "stream",
     "text": [
      "The number of words start and end with the same letter is: 9916\n"
     ]
    }
   ],
   "source": [
    "regexp = r'(^[a-z]).*\\1$'\n",
    "\n",
    "count = 0\n",
    "for word in list(words['A']):\n",
    "    if re.findall(regexp, word):\n",
    "        count = count + 1\n",
    "    else:\n",
    "        count = count\n",
    "\n",
    "print(f'The number of words start and end with the same letter is: {count}')"
   ]
  },
  {
   "cell_type": "markdown",
   "metadata": {},
   "source": [
    "#### - How many words start and end with a vowel?"
   ]
  },
  {
   "cell_type": "code",
   "execution_count": 25,
   "metadata": {},
   "outputs": [
    {
     "name": "stdout",
     "output_type": "stream",
     "text": [
      "The number of words start and end with a vowel is: 12351\n"
     ]
    }
   ],
   "source": [
    "regexp = r'(^[aeiou]).*[aeiou]$'\n",
    "\n",
    "count = 0\n",
    "for word in list(words['A']):\n",
    "    if re.findall(regexp, word):\n",
    "        count = count + 1\n",
    "    else:\n",
    "        count = count\n",
    "\n",
    "print(f'The number of words start and end with a vowel is: {count}')"
   ]
  },
  {
   "cell_type": "markdown",
   "metadata": {},
   "source": [
    "#### - How many words contain the same letter 3 times in a row?"
   ]
  },
  {
   "cell_type": "code",
   "execution_count": 26,
   "metadata": {},
   "outputs": [
    {
     "name": "stdout",
     "output_type": "stream",
     "text": [
      "The number of words start and end with the same letter is: 7\n"
     ]
    }
   ],
   "source": [
    "regexp = r'.*([a-z])\\1\\1.*$'\n",
    "\n",
    "count = 0\n",
    "for word in list(words['A']):\n",
    "    if re.findall(regexp, word):\n",
    "        count = count + 1\n",
    "    else:\n",
    "        count = count\n",
    "\n",
    "print(f'The number of words start and end with the same letter is: {count}')"
   ]
  },
  {
   "cell_type": "markdown",
   "metadata": {},
   "source": [
    "#### - What other interesting patterns in words can you find?"
   ]
  },
  {
   "cell_type": "code",
   "execution_count": 31,
   "metadata": {},
   "outputs": [
    {
     "data": {
      "text/plain": [
       "['a']"
      ]
     },
     "execution_count": 31,
     "metadata": {},
     "output_type": "execute_result"
    }
   ],
   "source": [
    "\n",
    "subject = 'alipila'\n",
    "\n",
    "re.findall(regexp, subject)"
   ]
  },
  {
   "cell_type": "code",
   "execution_count": 35,
   "metadata": {},
   "outputs": [
    {
     "name": "stdout",
     "output_type": "stream",
     "text": [
      "The number of palindrones is: 9915\n"
     ]
    }
   ],
   "source": [
    "regexp = r'^([a-z])\\w+\\1$'\n",
    "\n",
    "count = 0\n",
    "for word in list(words['A']):\n",
    "    if re.findall(regexp, word):\n",
    "        count = count + 1\n",
    "    else:\n",
    "        count = count\n",
    "\n",
    "print(f'The number of palindrones is: {count}')"
   ]
  },
  {
   "cell_type": "code",
   "execution_count": null,
   "metadata": {},
   "outputs": [],
   "source": []
  },
  {
   "cell_type": "code",
   "execution_count": null,
   "metadata": {},
   "outputs": [],
   "source": []
  },
  {
   "cell_type": "code",
   "execution_count": 2,
   "metadata": {},
   "outputs": [
    {
     "data": {
      "text/plain": [
       "'In our blog, “The Best Path To A Career In Software Development,” we looked at how bootcamps provide a more direct path to a career than traditional undergraduate CS degree programs. Today we’re here to talk to you about how bootcamps provide a more direct path to a career in data science than a Master’s Degree.\\xa0\\n“But don’t I need a degree to get a job as a data scientist?” As a non-traditional educational model, we hear this concern a lot. The answer is yes and no. Yes, because most jobs in data science require some form of higher education. No, because that degree doesn’t have to be in something related to data science – data scientists have degrees in many different areas of study! So if the concern that lacking a piece of paper will prevent you from accelerating your career, fear no more.\\nWhile a Master’s Degree provides a lot of value, it isn’t the most direct path for a job. With the exponential growth in data generation and the race to keep up with storing and processing that data, data science no longer sits at the fringe of an ultra-specialized workforce. Companies now need much larger teams to analyze, model, and leverage the data they’ve collected. So while the field of data science might have once only been available to those skilled in highly academic algorithm development, it’s now a playground for those with some Python skills who know how to find valuable insights in a mess of data.\\xa0\\n\\xa0\\nNow let’s get a bit more specific. If modern roles in data science demand more practical skills, why is a bootcamp a better path?\\n\\xa0\\n#1: Responsive curriculum: Barely 10 years ago nobody had heard of data science. But in that short amount of time, the tools and technologies in the field have grown exponentially. Each year sees the introduction of new packages, visualization tools, and cutting edge technologies. With such a rapidly evolving landscape, it’s hard for traditional learning environments to keep pace. With our ears tuned directly to employers, we’re able to adapt quickly and ensure we’re teaching what hiring managers need.\\n\\xa0\\n#2 Hands-on Project-Based Learning: Have you ever watched Top Chef or The Great British Bake Off? You were probably pretty entertained, but how did that seared Ahi Tuna with orange mint avocado salsa and balsamic vinegar reduced amuse-bouche turn out? The sad reality is, watching experts do their thing doesn’t make you an expert. Nor does listening to lectures. Our program is built around the concept of praxis, which is essentially the practical application of theory, or the blending of theory and practice. Half of your 670 program hours are spent actually writing code, so you develop the muscle memory and experience of programming. A career in data science is like an old-time trade, like becoming a blacksmith: you have to learn from masters and practice, practice, practice.\\xa0\\n\\xa0\\n#3 Progressive Curriculum Structure: In a traditional degree, students study by taking several classes at a time. You may begin with data structures and algorithms, then move to SQL, then take Python, and so on. But real-world data science doesn’t work so neatly. You will never face a project where you’re only working with one of those tools, so this pedagogical method is misaligned with career demands. Our program focuses on real-world deliverables at every step of the journey, while exposing you to increasingly complex problems and projects. You start off applying basic tools to simple challenges. Then, we begin varying the data sets, the way you access that data, the type of methodology you use, and the deliverable you’re responsible for. To put it simply, the structure of a traditional degree teaches you how to use a hammer, a saw, and a chisel. Codeup teaches you how to build a stool, a birdbox, and a sculpture with those tools, and when to use which.\\xa0\\n\\xa0\\n#4 Job Placement Services: If education is your goal, stop reading now. If a career is your goal, then you’re in the right place. Most graduate institutions have career service offices where you can get advice on your resume and attend job fairs. But Codeup makes you a promise: get a job after graduation or get 100% of your money back. There are no two ways about that: our singular focus is your outcome. Unlike traditional institutions, we sell jobs, not education.\\xa0\\n\\xa0\\n#5 Messy Data: This is probably the most important difference between us and traditional degrees. We use real, messy, misleading, broken data so you learn how to draw insights from the real thing. Unfortunately, that is not the norm. Because of the segmented class structure, traditional degrees have to focus on using data that teach one specific skill. At Codeup, you’re always applying your tools to a real deliverable, so we’re able to use real data sets that intersect the challenges of multiple skills.\\xa0\\n\\xa0\\nLastly, we encourage you to think about the return on your investment in your education.\\n\\n\\n\\nCodeup*\\nPrivate Master’s\\n\\n\\n\\n\\n$29,500\\n6 months\\n85% graduation rate\\n88%\\xa0 employment rate\\n$67,500 median starting salary\\n\\n\\n\\n\\n$62,280\\n18-24 months\\n61% graduation rate\\n72.5% employment rate\\n$59,866 median starting salary\\n\\n\\n\\n\\n\\n*read more on our outcomes\\n\\xa0\\nMost importantly, the opportunity cost of pursuing a master’s degree is equal to 13-19 months of employment. At a median salary of $67,500 from Codeup, that’s between $67,500-$101,250 in foregone earnings.\\xa0\\nSo, you want a career in data science? A career accelerator like Codeup is the path for you. Still not convinced? We’re here to hear your concerns – contact us and let’s talk it through.\\n\\n'"
      ]
     },
     "execution_count": 2,
     "metadata": {},
     "output_type": "execute_result"
    }
   ],
   "source": [
    "string = 'In our blog, “The Best Path To A Career In Software Development,” we looked at how bootcamps provide a more direct path to a career than traditional undergraduate CS degree programs. Today we’re here to talk to you about how bootcamps provide a more direct path to a career in data science than a Master’s Degree.\\xa0\\n“But don’t I need a degree to get a job as a data scientist?” As a non-traditional educational model, we hear this concern a lot. The answer is yes and no. Yes, because most jobs in data science require some form of higher education. No, because that degree doesn’t have to be in something related to data science – data scientists have degrees in many different areas of study! So if the concern that lacking a piece of paper will prevent you from accelerating your career, fear no more.\\nWhile a Master’s Degree provides a lot of value, it isn’t the most direct path for a job. With the exponential growth in data generation and the race to keep up with storing and processing that data, data science no longer sits at the fringe of an ultra-specialized workforce. Companies now need much larger teams to analyze, model, and leverage the data they’ve collected. So while the field of data science might have once only been available to those skilled in highly academic algorithm development, it’s now a playground for those with some Python skills who know how to find valuable insights in a mess of data.\\xa0\\n\\xa0\\nNow let’s get a bit more specific. If modern roles in data science demand more practical skills, why is a bootcamp a better path?\\n\\xa0\\n#1: Responsive curriculum: Barely 10 years ago nobody had heard of data science. But in that short amount of time, the tools and technologies in the field have grown exponentially. Each year sees the introduction of new packages, visualization tools, and cutting edge technologies. With such a rapidly evolving landscape, it’s hard for traditional learning environments to keep pace. With our ears tuned directly to employers, we’re able to adapt quickly and ensure we’re teaching what hiring managers need.\\n\\xa0\\n#2 Hands-on Project-Based Learning: Have you ever watched Top Chef or The Great British Bake Off? You were probably pretty entertained, but how did that seared Ahi Tuna with orange mint avocado salsa and balsamic vinegar reduced amuse-bouche turn out? The sad reality is, watching experts do their thing doesn’t make you an expert. Nor does listening to lectures. Our program is built around the concept of praxis, which is essentially the practical application of theory, or the blending of theory and practice. Half of your 670 program hours are spent actually writing code, so you develop the muscle memory and experience of programming. A career in data science is like an old-time trade, like becoming a blacksmith: you have to learn from masters and practice, practice, practice.\\xa0\\n\\xa0\\n#3 Progressive Curriculum Structure: In a traditional degree, students study by taking several classes at a time. You may begin with data structures and algorithms, then move to SQL, then take Python, and so on. But real-world data science doesn’t work so neatly. You will never face a project where you’re only working with one of those tools, so this pedagogical method is misaligned with career demands. Our program focuses on real-world deliverables at every step of the journey, while exposing you to increasingly complex problems and projects. You start off applying basic tools to simple challenges. Then, we begin varying the data sets, the way you access that data, the type of methodology you use, and the deliverable you’re responsible for. To put it simply, the structure of a traditional degree teaches you how to use a hammer, a saw, and a chisel. Codeup teaches you how to build a stool, a birdbox, and a sculpture with those tools, and when to use which.\\xa0\\n\\xa0\\n#4 Job Placement Services: If education is your goal, stop reading now. If a career is your goal, then you’re in the right place. Most graduate institutions have career service offices where you can get advice on your resume and attend job fairs. But Codeup makes you a promise: get a job after graduation or get 100% of your money back. There are no two ways about that: our singular focus is your outcome. Unlike traditional institutions, we sell jobs, not education.\\xa0\\n\\xa0\\n#5 Messy Data: This is probably the most important difference between us and traditional degrees. We use real, messy, misleading, broken data so you learn how to draw insights from the real thing. Unfortunately, that is not the norm. Because of the segmented class structure, traditional degrees have to focus on using data that teach one specific skill. At Codeup, you’re always applying your tools to a real deliverable, so we’re able to use real data sets that intersect the challenges of multiple skills.\\xa0\\n\\xa0\\nLastly, we encourage you to think about the return on your investment in your education.\\n\\n\\n\\nCodeup*\\nPrivate Master’s\\n\\n\\n\\n\\n$29,500\\n6 months\\n85% graduation rate\\n88%\\xa0 employment rate\\n$67,500 median starting salary\\n\\n\\n\\n\\n$62,280\\n18-24 months\\n61% graduation rate\\n72.5% employment rate\\n$59,866 median starting salary\\n\\n\\n\\n\\n\\n*read more on our outcomes\\n\\xa0\\nMost importantly, the opportunity cost of pursuing a master’s degree is equal to 13-19 months of employment. At a median salary of $67,500 from Codeup, that’s between $67,500-$101,250 in foregone earnings.\\xa0\\nSo, you want a career in data science? A career accelerator like Codeup is the path for you. Still not convinced? We’re here to hear your concerns – contact us and let’s talk it through.\\n\\n'\n",
    "string"
   ]
  },
  {
   "cell_type": "code",
   "execution_count": 7,
   "metadata": {},
   "outputs": [
    {
     "data": {
      "text/plain": [
       "'In our blog, “The Best Path To A Career In Software Development,” we looked at how bootcamps provide a more direct path to a career than traditional undergraduate CS degree programs. Today we’re here to talk to you about how bootcamps provide a more direct path to a career in data science than a Master’s Degree.\\xa0 “But don’t I need a degree to get a job as a data scientist?” As a non-traditional educational model, we hear this concern a lot. The answer is yes and no. Yes, because most jobs in data science require some form of higher education. No, because that degree doesn’t have to be in something related to data science – data scientists have degrees in many different areas of study! So if the concern that lacking a piece of paper will prevent you from accelerating your career, fear no more. While a Master’s Degree provides a lot of value, it isn’t the most direct path for a job. With the exponential growth in data generation and the race to keep up with storing and processing that data, data science no longer sits at the fringe of an ultra-specialized workforce. Companies now need much larger teams to analyze, model, and leverage the data they’ve collected. So while the field of data science might have once only been available to those skilled in highly academic algorithm development, it’s now a playground for those with some Python skills who know how to find valuable insights in a mess of data.\\xa0 \\xa0 Now let’s get a bit more specific. If modern roles in data science demand more practical skills, why is a bootcamp a better path? \\xa0 #1: Responsive curriculum: Barely 10 years ago nobody had heard of data science. But in that short amount of time, the tools and technologies in the field have grown exponentially. Each year sees the introduction of new packages, visualization tools, and cutting edge technologies. With such a rapidly evolving landscape, it’s hard for traditional learning environments to keep pace. With our ears tuned directly to employers, we’re able to adapt quickly and ensure we’re teaching what hiring managers need. \\xa0 #2 Hands-on Project-Based Learning: Have you ever watched Top Chef or The Great British Bake Off? You were probably pretty entertained, but how did that seared Ahi Tuna with orange mint avocado salsa and balsamic vinegar reduced amuse-bouche turn out? The sad reality is, watching experts do their thing doesn’t make you an expert. Nor does listening to lectures. Our program is built around the concept of praxis, which is essentially the practical application of theory, or the blending of theory and practice. Half of your 670 program hours are spent actually writing code, so you develop the muscle memory and experience of programming. A career in data science is like an old-time trade, like becoming a blacksmith: you have to learn from masters and practice, practice, practice.\\xa0 \\xa0 #3 Progressive Curriculum Structure: In a traditional degree, students study by taking several classes at a time. You may begin with data structures and algorithms, then move to SQL, then take Python, and so on. But real-world data science doesn’t work so neatly. You will never face a project where you’re only working with one of those tools, so this pedagogical method is misaligned with career demands. Our program focuses on real-world deliverables at every step of the journey, while exposing you to increasingly complex problems and projects. You start off applying basic tools to simple challenges. Then, we begin varying the data sets, the way you access that data, the type of methodology you use, and the deliverable you’re responsible for. To put it simply, the structure of a traditional degree teaches you how to use a hammer, a saw, and a chisel. Codeup teaches you how to build a stool, a birdbox, and a sculpture with those tools, and when to use which.\\xa0 \\xa0 #4 Job Placement Services: If education is your goal, stop reading now. If a career is your goal, then you’re in the right place. Most graduate institutions have career service offices where you can get advice on your resume and attend job fairs. But Codeup makes you a promise: get a job after graduation or get 100% of your money back. There are no two ways about that: our singular focus is your outcome. Unlike traditional institutions, we sell jobs, not education.\\xa0 \\xa0 #5 Messy Data: This is probably the most important difference between us and traditional degrees. We use real, messy, misleading, broken data so you learn how to draw insights from the real thing. Unfortunately, that is not the norm. Because of the segmented class structure, traditional degrees have to focus on using data that teach one specific skill. At Codeup, you’re always applying your tools to a real deliverable, so we’re able to use real data sets that intersect the challenges of multiple skills.\\xa0 \\xa0 Lastly, we encourage you to think about the return on your investment in your education. Codeup* Private Master’s $29,500 6 months 85% graduation rate 88%\\xa0 employment rate $67,500 median starting salary $62,280 18-24 months 61% graduation rate 72.5% employment rate $59,866 median starting salary *read more on our outcomes \\xa0 Most importantly, the opportunity cost of pursuing a master’s degree is equal to 13-19 months of employment. At a median salary of $67,500 from Codeup, that’s between $67,500-$101,250 in foregone earnings.\\xa0 So, you want a career in data science? A career accelerator like Codeup is the path for you. Still not convinced? We’re here to hear your concerns – contact us and let’s talk it through. '"
      ]
     },
     "execution_count": 7,
     "metadata": {},
     "output_type": "execute_result"
    }
   ],
   "source": [
    "re.sub(r'[\\n]+', ' ', string)"
   ]
  },
  {
   "cell_type": "code",
   "execution_count": null,
   "metadata": {},
   "outputs": [],
   "source": []
  }
 ],
 "metadata": {
  "kernelspec": {
   "display_name": "Python 3",
   "language": "python",
   "name": "python3"
  },
  "language_info": {
   "codemirror_mode": {
    "name": "ipython",
    "version": 3
   },
   "file_extension": ".py",
   "mimetype": "text/x-python",
   "name": "python",
   "nbconvert_exporter": "python",
   "pygments_lexer": "ipython3",
   "version": "3.8.5"
  }
 },
 "nbformat": 4,
 "nbformat_minor": 4
}
