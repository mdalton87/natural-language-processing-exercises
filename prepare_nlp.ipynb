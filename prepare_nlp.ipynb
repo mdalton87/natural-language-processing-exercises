{
 "cells": [
  {
   "cell_type": "code",
   "execution_count": 1,
   "metadata": {},
   "outputs": [],
   "source": [
    "import unicodedata\n",
    "import re\n",
    "import json\n",
    "\n",
    "import nltk\n",
    "from nltk.tokenize.toktok import ToktokTokenizer\n",
    "from nltk.corpus import stopwords\n",
    "\n",
    "import pandas as pd\n",
    "\n",
    "import acquire as a\n",
    "import prepare as prep"
   ]
  },
  {
   "cell_type": "code",
   "execution_count": 2,
   "metadata": {},
   "outputs": [],
   "source": [
    "# nltk.download('wordnet')"
   ]
  },
  {
   "cell_type": "code",
   "execution_count": 3,
   "metadata": {},
   "outputs": [],
   "source": [
    "# df = a.all_codeup_blogs()"
   ]
  },
  {
   "cell_type": "code",
   "execution_count": 4,
   "metadata": {},
   "outputs": [],
   "source": [
    "# df.to_csv('codeup_blogs.csv')"
   ]
  },
  {
   "cell_type": "code",
   "execution_count": 5,
   "metadata": {},
   "outputs": [],
   "source": [
    "df = pd.read_csv('codeup_blogs.csv')"
   ]
  },
  {
   "cell_type": "code",
   "execution_count": 6,
   "metadata": {},
   "outputs": [
    {
     "data": {
      "text/html": [
       "<div>\n",
       "<style scoped>\n",
       "    .dataframe tbody tr th:only-of-type {\n",
       "        vertical-align: middle;\n",
       "    }\n",
       "\n",
       "    .dataframe tbody tr th {\n",
       "        vertical-align: top;\n",
       "    }\n",
       "\n",
       "    .dataframe thead th {\n",
       "        text-align: right;\n",
       "    }\n",
       "</style>\n",
       "<table border=\"1\" class=\"dataframe\">\n",
       "  <thead>\n",
       "    <tr style=\"text-align: right;\">\n",
       "      <th></th>\n",
       "      <th>title</th>\n",
       "      <th>body</th>\n",
       "    </tr>\n",
       "  </thead>\n",
       "  <tbody>\n",
       "    <tr>\n",
       "      <th>0</th>\n",
       "      <td>The Best Path to a Career in Data Science</td>\n",
       "      <td>In our blog, “The Best Path To A Career In Sof...</td>\n",
       "    </tr>\n",
       "    <tr>\n",
       "      <th>1</th>\n",
       "      <td>Hey Dallas, Meet Your Software Development Men...</td>\n",
       "      <td>We may be new to town here in Dallas, but Code...</td>\n",
       "    </tr>\n",
       "    <tr>\n",
       "      <th>2</th>\n",
       "      <td>5 Tools Every Programmer Should Use</td>\n",
       "      <td>5 Tools Every Programmer Should Use\\nEvery tra...</td>\n",
       "    </tr>\n",
       "    <tr>\n",
       "      <th>3</th>\n",
       "      <td>How I Went From Codeup to Business Owner</td>\n",
       "      <td>Out of college, I was a bit of a mess. That’s ...</td>\n",
       "    </tr>\n",
       "    <tr>\n",
       "      <th>4</th>\n",
       "      <td>How Codeup Paid Off for Both Employee and Empl...</td>\n",
       "      <td>After graduating from Codeup in 2016, Stan H. ...</td>\n",
       "    </tr>\n",
       "  </tbody>\n",
       "</table>\n",
       "</div>"
      ],
      "text/plain": [
       "                                               title  \\\n",
       "0          The Best Path to a Career in Data Science   \n",
       "1  Hey Dallas, Meet Your Software Development Men...   \n",
       "2                5 Tools Every Programmer Should Use   \n",
       "3           How I Went From Codeup to Business Owner   \n",
       "4  How Codeup Paid Off for Both Employee and Empl...   \n",
       "\n",
       "                                                body  \n",
       "0  In our blog, “The Best Path To A Career In Sof...  \n",
       "1  We may be new to town here in Dallas, but Code...  \n",
       "2  5 Tools Every Programmer Should Use\\nEvery tra...  \n",
       "3  Out of college, I was a bit of a mess. That’s ...  \n",
       "4  After graduating from Codeup in 2016, Stan H. ...  "
      ]
     },
     "execution_count": 6,
     "metadata": {},
     "output_type": "execute_result"
    }
   ],
   "source": [
    "df = df.reset_index(drop=True).drop(columns='Unnamed: 0')\n",
    "\n",
    "df.head()"
   ]
  },
  {
   "cell_type": "code",
   "execution_count": 7,
   "metadata": {},
   "outputs": [
    {
     "data": {
      "text/plain": [
       "(90, 2)"
      ]
     },
     "execution_count": 7,
     "metadata": {},
     "output_type": "execute_result"
    }
   ],
   "source": [
    "df.shape"
   ]
  },
  {
   "cell_type": "markdown",
   "metadata": {},
   "source": [
    "# 1. Define a function named ```basic_clean```. It should take in a string and apply some basic text cleaning to it:\n",
    "\n",
    "### - Lowercase everything\n",
    "### - Normalize unicode characters\n",
    "### - Replace anything that is not a letter, number, whitespace or a single quote.\n"
   ]
  },
  {
   "cell_type": "code",
   "execution_count": 47,
   "metadata": {
    "scrolled": true
   },
   "outputs": [
    {
     "data": {
      "text/plain": [
       "'In our blog, “The Best Path To A Career In Software Development,” we looked at how bootcamps provide a more direct path to a career than traditional undergraduate CS degree programs. Today we’re here to talk to you about how bootcamps provide a more direct path to a career in data science than a Master’s Degree.\\xa0\\n“But don’t I need a degree to get a job as a data scientist?” As a non-traditional educational model, we hear this concern a lot. The answer is yes and no. Yes, because most jobs in data science require some form of higher education. No, because that degree doesn’t have to be in something related to data science – data scientists have degrees in many different areas of study! So if the concern that lacking a piece of paper will prevent you from accelerating your career, fear no more.\\nWhile a Master’s Degree provides a lot of value, it isn’t the most direct path for a job. With the exponential growth in data generation and the race to keep up with storing and processing that data, data science no longer sits at the fringe of an ultra-specialized workforce. Companies now need much larger teams to analyze, model, and leverage the data they’ve collected. So while the field of data science might have once only been available to those skilled in highly academic algorithm development, it’s now a playground for those with some Python skills who know how to find valuable insights in a mess of data.\\xa0\\n\\xa0\\nNow let’s get a bit more specific. If modern roles in data science demand more practical skills, why is a bootcamp a better path?\\n\\xa0\\n#1: Responsive curriculum: Barely 10 years ago nobody had heard of data science. But in that short amount of time, the tools and technologies in the field have grown exponentially. Each year sees the introduction of new packages, visualization tools, and cutting edge technologies. With such a rapidly evolving landscape, it’s hard for traditional learning environments to keep pace. With our ears tuned directly to employers, we’re able to adapt quickly and ensure we’re teaching what hiring managers need.\\n\\xa0\\n#2 Hands-on Project-Based Learning: Have you ever watched Top Chef or The Great British Bake Off? You were probably pretty entertained, but how did that seared Ahi Tuna with orange mint avocado salsa and balsamic vinegar reduced amuse-bouche turn out? The sad reality is, watching experts do their thing doesn’t make you an expert. Nor does listening to lectures. Our program is built around the concept of praxis, which is essentially the practical application of theory, or the blending of theory and practice. Half of your 670 program hours are spent actually writing code, so you develop the muscle memory and experience of programming. A career in data science is like an old-time trade, like becoming a blacksmith: you have to learn from masters and practice, practice, practice.\\xa0\\n\\xa0\\n#3 Progressive Curriculum Structure: In a traditional degree, students study by taking several classes at a time. You may begin with data structures and algorithms, then move to SQL, then take Python, and so on. But real-world data science doesn’t work so neatly. You will never face a project where you’re only working with one of those tools, so this pedagogical method is misaligned with career demands. Our program focuses on real-world deliverables at every step of the journey, while exposing you to increasingly complex problems and projects. You start off applying basic tools to simple challenges. Then, we begin varying the data sets, the way you access that data, the type of methodology you use, and the deliverable you’re responsible for. To put it simply, the structure of a traditional degree teaches you how to use a hammer, a saw, and a chisel. Codeup teaches you how to build a stool, a birdbox, and a sculpture with those tools, and when to use which.\\xa0\\n\\xa0\\n#4 Job Placement Services: If education is your goal, stop reading now. If a career is your goal, then you’re in the right place. Most graduate institutions have career service offices where you can get advice on your resume and attend job fairs. But Codeup makes you a promise: get a job after graduation or get 100% of your money back. There are no two ways about that: our singular focus is your outcome. Unlike traditional institutions, we sell jobs, not education.\\xa0\\n\\xa0\\n#5 Messy Data: This is probably the most important difference between us and traditional degrees. We use real, messy, misleading, broken data so you learn how to draw insights from the real thing. Unfortunately, that is not the norm. Because of the segmented class structure, traditional degrees have to focus on using data that teach one specific skill. At Codeup, you’re always applying your tools to a real deliverable, so we’re able to use real data sets that intersect the challenges of multiple skills.\\xa0\\n\\xa0\\nLastly, we encourage you to think about the return on your investment in your education.\\n\\n\\n\\nCodeup*\\nPrivate Master’s\\n\\n\\n\\n\\n$29,500\\n6 months\\n85% graduation rate\\n88%\\xa0 employment rate\\n$67,500 median starting salary\\n\\n\\n\\n\\n$62,280\\n18-24 months\\n61% graduation rate\\n72.5% employment rate\\n$59,866 median starting salary\\n\\n\\n\\n\\n\\n*read more on our outcomes\\n\\xa0\\nMost importantly, the opportunity cost of pursuing a master’s degree is equal to 13-19 months of employment. At a median salary of $67,500 from Codeup, that’s between $67,500-$101,250 in foregone earnings.\\xa0\\nSo, you want a career in data science? A career accelerator like Codeup is the path for you. Still not convinced? We’re here to hear your concerns – contact us and let’s talk it through.\\n\\n'"
      ]
     },
     "execution_count": 47,
     "metadata": {},
     "output_type": "execute_result"
    }
   ],
   "source": [
    "string = df.body[0]\n",
    "string"
   ]
  },
  {
   "cell_type": "code",
   "execution_count": 9,
   "metadata": {},
   "outputs": [],
   "source": [
    "# # lowercase all text\n",
    "# string = string.lower()"
   ]
  },
  {
   "cell_type": "code",
   "execution_count": 10,
   "metadata": {
    "scrolled": true
   },
   "outputs": [],
   "source": [
    "# # normalize text by removing special characters \n",
    "# string = unicodedata.normalize('NFKD', string)\\\n",
    "#     .encode('ascii', 'ignore')\\\n",
    "#     .decode('utf-8', 'ignore')\n",
    "\n",
    "# string"
   ]
  },
  {
   "cell_type": "code",
   "execution_count": 11,
   "metadata": {
    "scrolled": true
   },
   "outputs": [],
   "source": [
    "# # replace anything that is not a letter, number, whitespace or a single quote. \n",
    "# string = re.sub(r\"[^a-z0-9'\\s]\", '', string)\n",
    "# # remove '\\n' from string\n",
    "# string = string.replace('\\n', '')\n",
    "# string"
   ]
  },
  {
   "cell_type": "code",
   "execution_count": 12,
   "metadata": {},
   "outputs": [],
   "source": [
    "def basic_clean(string):\n",
    "    '''\n",
    "    Description:\n",
    "    -----------\n",
    "    This function takes a string and normalizes it by:\n",
    "        making all text lowercase,\n",
    "        removing special characters,\n",
    "        removing characters that are not alphanumeric, whitespace, or a single quote, and\n",
    "        removing the new line '\\n' indicator.\n",
    "    \n",
    "    Parameters:\n",
    "    ----------\n",
    "    string: str\n",
    "        String to be normalized.\n",
    "        \n",
    "    Example:\n",
    "    -------\n",
    "    Use in list comprehension with a pandas series\n",
    "        list_of_strings = ([basic_clean(string) for string in pd.Series])\n",
    "    '''\n",
    "    # lowercase all text\n",
    "    string = string.lower()\n",
    "    # normalize text by removing special characters \n",
    "    string = unicodedata.normalize('NFKD', string)\\\n",
    "        .encode('ascii', 'ignore')\\\n",
    "        .decode('utf-8', 'ignore')\n",
    "    # replace anything that is not a letter, number, whitespace or a single quote. \n",
    "    string = re.sub(r\"[^a-z0-9'\\s]\", '', string)\n",
    "    # remove '\\n' from string\n",
    "    string = re.sub(r'([\\n])+', ' ', string)\n",
    "    \n",
    "    return string"
   ]
  },
  {
   "cell_type": "code",
   "execution_count": 13,
   "metadata": {
    "scrolled": true
   },
   "outputs": [
    {
     "data": {
      "text/plain": [
       "'in our blog the best path to a career in software development we looked at how bootcamps provide a more direct path to a career than traditional undergraduate cs degree programs today were here to talk to you about how bootcamps provide a more direct path to a career in data science than a masters degree  but dont i need a degree to get a job as a data scientist as a nontraditional educational model we hear this concern a lot the answer is yes and no yes because most jobs in data science require some form of higher education no because that degree doesnt have to be in something related to data science  data scientists have degrees in many different areas of study so if the concern that lacking a piece of paper will prevent you from accelerating your career fear no more while a masters degree provides a lot of value it isnt the most direct path for a job with the exponential growth in data generation and the race to keep up with storing and processing that data data science no longer sits at the fringe of an ultraspecialized workforce companies now need much larger teams to analyze model and leverage the data theyve collected so while the field of data science might have once only been available to those skilled in highly academic algorithm development its now a playground for those with some python skills who know how to find valuable insights in a mess of data    now lets get a bit more specific if modern roles in data science demand more practical skills why is a bootcamp a better path   1 responsive curriculum barely 10 years ago nobody had heard of data science but in that short amount of time the tools and technologies in the field have grown exponentially each year sees the introduction of new packages visualization tools and cutting edge technologies with such a rapidly evolving landscape its hard for traditional learning environments to keep pace with our ears tuned directly to employers were able to adapt quickly and ensure were teaching what hiring managers need   2 handson projectbased learning have you ever watched top chef or the great british bake off you were probably pretty entertained but how did that seared ahi tuna with orange mint avocado salsa and balsamic vinegar reduced amusebouche turn out the sad reality is watching experts do their thing doesnt make you an expert nor does listening to lectures our program is built around the concept of praxis which is essentially the practical application of theory or the blending of theory and practice half of your 670 program hours are spent actually writing code so you develop the muscle memory and experience of programming a career in data science is like an oldtime trade like becoming a blacksmith you have to learn from masters and practice practice practice    3 progressive curriculum structure in a traditional degree students study by taking several classes at a time you may begin with data structures and algorithms then move to sql then take python and so on but realworld data science doesnt work so neatly you will never face a project where youre only working with one of those tools so this pedagogical method is misaligned with career demands our program focuses on realworld deliverables at every step of the journey while exposing you to increasingly complex problems and projects you start off applying basic tools to simple challenges then we begin varying the data sets the way you access that data the type of methodology you use and the deliverable youre responsible for to put it simply the structure of a traditional degree teaches you how to use a hammer a saw and a chisel codeup teaches you how to build a stool a birdbox and a sculpture with those tools and when to use which    4 job placement services if education is your goal stop reading now if a career is your goal then youre in the right place most graduate institutions have career service offices where you can get advice on your resume and attend job fairs but codeup makes you a promise get a job after graduation or get 100 of your money back there are no two ways about that our singular focus is your outcome unlike traditional institutions we sell jobs not education    5 messy data this is probably the most important difference between us and traditional degrees we use real messy misleading broken data so you learn how to draw insights from the real thing unfortunately that is not the norm because of the segmented class structure traditional degrees have to focus on using data that teach one specific skill at codeup youre always applying your tools to a real deliverable so were able to use real data sets that intersect the challenges of multiple skills    lastly we encourage you to think about the return on your investment in your education codeup private masters 29500 6 months 85 graduation rate 88  employment rate 67500 median starting salary 62280 1824 months 61 graduation rate 725 employment rate 59866 median starting salary read more on our outcomes   most importantly the opportunity cost of pursuing a masters degree is equal to 1319 months of employment at a median salary of 67500 from codeup thats between 67500101250 in foregone earnings  so you want a career in data science a career accelerator like codeup is the path for you still not convinced were here to hear your concerns  contact us and lets talk it through '"
      ]
     },
     "execution_count": 13,
     "metadata": {},
     "output_type": "execute_result"
    }
   ],
   "source": [
    "string = basic_clean(string)\n",
    "string"
   ]
  },
  {
   "cell_type": "code",
   "execution_count": 14,
   "metadata": {},
   "outputs": [],
   "source": [
    "list_of_blogs = [basic_clean(string) for string in df.body]"
   ]
  },
  {
   "cell_type": "markdown",
   "metadata": {},
   "source": [
    "# 2. Define a function named ```tokenize```. It should take in a string and tokenize all the words in the string.\n",
    "\n"
   ]
  },
  {
   "cell_type": "code",
   "execution_count": 15,
   "metadata": {},
   "outputs": [],
   "source": [
    "# Create the tokenizer\n",
    "tokenizer = nltk.tokenize.ToktokTokenizer()\n",
    "\n",
    "# Use the tokenizer\n",
    "string = tokenizer.tokenize(string, return_str = True)"
   ]
  },
  {
   "cell_type": "code",
   "execution_count": 16,
   "metadata": {
    "scrolled": true
   },
   "outputs": [
    {
     "data": {
      "text/plain": [
       "'in our blog the best path to a career in software development we looked at how bootcamps provide a more direct path to a career than traditional undergraduate cs degree programs today were here to talk to you about how bootcamps provide a more direct path to a career in data science than a masters degree but dont i need a degree to get a job as a data scientist as a nontraditional educational model we hear this concern a lot the answer is yes and no yes because most jobs in data science require some form of higher education no because that degree doesnt have to be in something related to data science data scientists have degrees in many different areas of study so if the concern that lacking a piece of paper will prevent you from accelerating your career fear no more while a masters degree provides a lot of value it isnt the most direct path for a job with the exponential growth in data generation and the race to keep up with storing and processing that data data science no longer sits at the fringe of an ultraspecialized workforce companies now need much larger teams to analyze model and leverage the data theyve collected so while the field of data science might have once only been available to those skilled in highly academic algorithm development its now a playground for those with some python skills who know how to find valuable insights in a mess of data now lets get a bit more specific if modern roles in data science demand more practical skills why is a bootcamp a better path 1 responsive curriculum barely 10 years ago nobody had heard of data science but in that short amount of time the tools and technologies in the field have grown exponentially each year sees the introduction of new packages visualization tools and cutting edge technologies with such a rapidly evolving landscape its hard for traditional learning environments to keep pace with our ears tuned directly to employers were able to adapt quickly and ensure were teaching what hiring managers need 2 handson projectbased learning have you ever watched top chef or the great british bake off you were probably pretty entertained but how did that seared ahi tuna with orange mint avocado salsa and balsamic vinegar reduced amusebouche turn out the sad reality is watching experts do their thing doesnt make you an expert nor does listening to lectures our program is built around the concept of praxis which is essentially the practical application of theory or the blending of theory and practice half of your 670 program hours are spent actually writing code so you develop the muscle memory and experience of programming a career in data science is like an oldtime trade like becoming a blacksmith you have to learn from masters and practice practice practice 3 progressive curriculum structure in a traditional degree students study by taking several classes at a time you may begin with data structures and algorithms then move to sql then take python and so on but realworld data science doesnt work so neatly you will never face a project where youre only working with one of those tools so this pedagogical method is misaligned with career demands our program focuses on realworld deliverables at every step of the journey while exposing you to increasingly complex problems and projects you start off applying basic tools to simple challenges then we begin varying the data sets the way you access that data the type of methodology you use and the deliverable youre responsible for to put it simply the structure of a traditional degree teaches you how to use a hammer a saw and a chisel codeup teaches you how to build a stool a birdbox and a sculpture with those tools and when to use which 4 job placement services if education is your goal stop reading now if a career is your goal then youre in the right place most graduate institutions have career service offices where you can get advice on your resume and attend job fairs but codeup makes you a promise get a job after graduation or get 100 of your money back there are no two ways about that our singular focus is your outcome unlike traditional institutions we sell jobs not education 5 messy data this is probably the most important difference between us and traditional degrees we use real messy misleading broken data so you learn how to draw insights from the real thing unfortunately that is not the norm because of the segmented class structure traditional degrees have to focus on using data that teach one specific skill at codeup youre always applying your tools to a real deliverable so were able to use real data sets that intersect the challenges of multiple skills lastly we encourage you to think about the return on your investment in your education codeup private masters 29500 6 months 85 graduation rate 88 employment rate 67500 median starting salary 62280 1824 months 61 graduation rate 725 employment rate 59866 median starting salary read more on our outcomes most importantly the opportunity cost of pursuing a masters degree is equal to 1319 months of employment at a median salary of 67500 from codeup thats between 67500101250 in foregone earnings so you want a career in data science a career accelerator like codeup is the path for you still not convinced were here to hear your concerns contact us and lets talk it through'"
      ]
     },
     "execution_count": 16,
     "metadata": {},
     "output_type": "execute_result"
    }
   ],
   "source": [
    "string"
   ]
  },
  {
   "cell_type": "code",
   "execution_count": 17,
   "metadata": {},
   "outputs": [],
   "source": [
    "def tokenize(string):\n",
    "    '''\n",
    "    Description:\n",
    "    -----------\n",
    "    This function tokenizes a string.\n",
    "    \n",
    "    Parameters:\n",
    "    ----------\n",
    "    string: str\n",
    "        String to be tokenized.\n",
    "        \n",
    "    Example:\n",
    "    -------\n",
    "    Use in list comprehension with a pandas series\n",
    "        list_of_strings = ([tokenize(string) for string in pd.Series])    \n",
    "    '''\n",
    "    \n",
    "    # Create the tokenizer\n",
    "    tokenizer = nltk.tokenize.ToktokTokenizer()\n",
    "\n",
    "    # Use the tokenizer\n",
    "    string = tokenizer.tokenize(string, return_str = True)\n",
    "    \n",
    "    return string"
   ]
  },
  {
   "cell_type": "code",
   "execution_count": 18,
   "metadata": {},
   "outputs": [],
   "source": [
    "string2 = \"letter 'o' 'o' with\""
   ]
  },
  {
   "cell_type": "code",
   "execution_count": 19,
   "metadata": {},
   "outputs": [
    {
     "data": {
      "text/plain": [
       "\"letter ' o ' ' o ' with\""
      ]
     },
     "execution_count": 19,
     "metadata": {},
     "output_type": "execute_result"
    }
   ],
   "source": [
    "tokenize(string2)"
   ]
  },
  {
   "cell_type": "markdown",
   "metadata": {},
   "source": [
    "# 3. Define a function named ```stem```. It should accept some text and return the text after applying stemming to all the words."
   ]
  },
  {
   "cell_type": "code",
   "execution_count": 20,
   "metadata": {},
   "outputs": [],
   "source": [
    "def stem(string):\n",
    "    '''\n",
    "    Description:\n",
    "    -----------\n",
    "    This function stems a string.\n",
    "    \n",
    "    Parameters:\n",
    "    ----------\n",
    "    string: str\n",
    "        String to be stemmed.\n",
    "        \n",
    "    Example:\n",
    "    -------\n",
    "    Use in list comprehension with a pandas series\n",
    "        list_of_strings = ([stem(string) for string in pd.Series]) \n",
    "    '''\n",
    "    # Create porter stemmer.\n",
    "    ps = nltk.porter.PorterStemmer()\n",
    "    \n",
    "    # Apply the stemmer to each word in our string\n",
    "    stems = [ps.stem(word) for word in string.split()]\n",
    "    \n",
    "    # Join our lists of words into a string again\n",
    "    stemmed_string = ' '.join(stems)\n",
    "    \n",
    "    return stemmed_string\n",
    "    "
   ]
  },
  {
   "cell_type": "code",
   "execution_count": 21,
   "metadata": {
    "scrolled": true
   },
   "outputs": [
    {
     "data": {
      "text/plain": [
       "'in our blog the best path to a career in softwar develop we look at how bootcamp provid a more direct path to a career than tradit undergradu cs degre program today were here to talk to you about how bootcamp provid a more direct path to a career in data scienc than a master degre but dont i need a degre to get a job as a data scientist as a nontradit educ model we hear thi concern a lot the answer is ye and no ye becaus most job in data scienc requir some form of higher educ no becaus that degre doesnt have to be in someth relat to data scienc data scientist have degre in mani differ area of studi so if the concern that lack a piec of paper will prevent you from acceler your career fear no more while a master degre provid a lot of valu it isnt the most direct path for a job with the exponenti growth in data gener and the race to keep up with store and process that data data scienc no longer sit at the fring of an ultraspeci workforc compani now need much larger team to analyz model and leverag the data theyv collect so while the field of data scienc might have onc onli been avail to those skill in highli academ algorithm develop it now a playground for those with some python skill who know how to find valuabl insight in a mess of data now let get a bit more specif if modern role in data scienc demand more practic skill whi is a bootcamp a better path 1 respons curriculum bare 10 year ago nobodi had heard of data scienc but in that short amount of time the tool and technolog in the field have grown exponenti each year see the introduct of new packag visual tool and cut edg technolog with such a rapidli evolv landscap it hard for tradit learn environ to keep pace with our ear tune directli to employ were abl to adapt quickli and ensur were teach what hire manag need 2 handson projectbas learn have you ever watch top chef or the great british bake off you were probabl pretti entertain but how did that sear ahi tuna with orang mint avocado salsa and balsam vinegar reduc amusebouch turn out the sad realiti is watch expert do their thing doesnt make you an expert nor doe listen to lectur our program is built around the concept of praxi which is essenti the practic applic of theori or the blend of theori and practic half of your 670 program hour are spent actual write code so you develop the muscl memori and experi of program a career in data scienc is like an oldtim trade like becom a blacksmith you have to learn from master and practic practic practic 3 progress curriculum structur in a tradit degre student studi by take sever class at a time you may begin with data structur and algorithm then move to sql then take python and so on but realworld data scienc doesnt work so neatli you will never face a project where your onli work with one of those tool so thi pedagog method is misalign with career demand our program focus on realworld deliver at everi step of the journey while expos you to increasingli complex problem and project you start off appli basic tool to simpl challeng then we begin vari the data set the way you access that data the type of methodolog you use and the deliver your respons for to put it simpli the structur of a tradit degre teach you how to use a hammer a saw and a chisel codeup teach you how to build a stool a birdbox and a sculptur with those tool and when to use which 4 job placement servic if educ is your goal stop read now if a career is your goal then your in the right place most graduat institut have career servic offic where you can get advic on your resum and attend job fair but codeup make you a promis get a job after graduat or get 100 of your money back there are no two way about that our singular focu is your outcom unlik tradit institut we sell job not educ 5 messi data thi is probabl the most import differ between us and tradit degre we use real messi mislead broken data so you learn how to draw insight from the real thing unfortun that is not the norm becaus of the segment class structur tradit degre have to focu on use data that teach one specif skill at codeup your alway appli your tool to a real deliver so were abl to use real data set that intersect the challeng of multipl skill lastli we encourag you to think about the return on your invest in your educ codeup privat master 29500 6 month 85 graduat rate 88 employ rate 67500 median start salari 62280 1824 month 61 graduat rate 725 employ rate 59866 median start salari read more on our outcom most importantli the opportun cost of pursu a master degre is equal to 1319 month of employ at a median salari of 67500 from codeup that between 67500101250 in foregon earn so you want a career in data scienc a career acceler like codeup is the path for you still not convinc were here to hear your concern contact us and let talk it through'"
      ]
     },
     "execution_count": 21,
     "metadata": {},
     "output_type": "execute_result"
    }
   ],
   "source": [
    "stemmed_string = stem(string)\n",
    "stemmed_string"
   ]
  },
  {
   "cell_type": "markdown",
   "metadata": {},
   "source": [
    "# 4. Define a function named ```lemmatize```. It should accept some text and return the text after applying lemmatization to each word."
   ]
  },
  {
   "cell_type": "code",
   "execution_count": 22,
   "metadata": {},
   "outputs": [],
   "source": [
    "def lemmatize(string):\n",
    "    '''\n",
    "    Description:\n",
    "    -----------\n",
    "    This function stems a string.\n",
    "    \n",
    "    Parameters:\n",
    "    ----------\n",
    "    string: str\n",
    "        String to be lemmatized.\n",
    "        \n",
    "    Example:\n",
    "    -------\n",
    "    Use in list comprehension with a pandas series\n",
    "        list_of_strings = ([lemmatize(string) for string in pd.Series]) \n",
    "    '''\n",
    "    # Create the Lemmatizer.\n",
    "    wnl = nltk.stem.WordNetLemmatizer()\n",
    "    \n",
    "    # Use the lemmatizer on each word in the list of words we created by using split.\n",
    "    lemmas = [wnl.lemmatize(word) for word in string.split()]\n",
    "    \n",
    "    # Join our list of words into a string again; assign to a variable to save changes.\n",
    "    lemmatized_string = ' '.join(lemmas)\n",
    "    \n",
    "    return lemmatized_string"
   ]
  },
  {
   "cell_type": "code",
   "execution_count": 23,
   "metadata": {
    "scrolled": true
   },
   "outputs": [
    {
     "data": {
      "text/plain": [
       "'in our blog the best path to a career in software development we looked at how bootcamps provide a more direct path to a career than traditional undergraduate c degree program today were here to talk to you about how bootcamps provide a more direct path to a career in data science than a master degree but dont i need a degree to get a job a a data scientist a a nontraditional educational model we hear this concern a lot the answer is yes and no yes because most job in data science require some form of higher education no because that degree doesnt have to be in something related to data science data scientist have degree in many different area of study so if the concern that lacking a piece of paper will prevent you from accelerating your career fear no more while a master degree provides a lot of value it isnt the most direct path for a job with the exponential growth in data generation and the race to keep up with storing and processing that data data science no longer sits at the fringe of an ultraspecialized workforce company now need much larger team to analyze model and leverage the data theyve collected so while the field of data science might have once only been available to those skilled in highly academic algorithm development it now a playground for those with some python skill who know how to find valuable insight in a mess of data now let get a bit more specific if modern role in data science demand more practical skill why is a bootcamp a better path 1 responsive curriculum barely 10 year ago nobody had heard of data science but in that short amount of time the tool and technology in the field have grown exponentially each year see the introduction of new package visualization tool and cutting edge technology with such a rapidly evolving landscape it hard for traditional learning environment to keep pace with our ear tuned directly to employer were able to adapt quickly and ensure were teaching what hiring manager need 2 handson projectbased learning have you ever watched top chef or the great british bake off you were probably pretty entertained but how did that seared ahi tuna with orange mint avocado salsa and balsamic vinegar reduced amusebouche turn out the sad reality is watching expert do their thing doesnt make you an expert nor doe listening to lecture our program is built around the concept of praxis which is essentially the practical application of theory or the blending of theory and practice half of your 670 program hour are spent actually writing code so you develop the muscle memory and experience of programming a career in data science is like an oldtime trade like becoming a blacksmith you have to learn from master and practice practice practice 3 progressive curriculum structure in a traditional degree student study by taking several class at a time you may begin with data structure and algorithm then move to sql then take python and so on but realworld data science doesnt work so neatly you will never face a project where youre only working with one of those tool so this pedagogical method is misaligned with career demand our program focus on realworld deliverable at every step of the journey while exposing you to increasingly complex problem and project you start off applying basic tool to simple challenge then we begin varying the data set the way you access that data the type of methodology you use and the deliverable youre responsible for to put it simply the structure of a traditional degree teach you how to use a hammer a saw and a chisel codeup teach you how to build a stool a birdbox and a sculpture with those tool and when to use which 4 job placement service if education is your goal stop reading now if a career is your goal then youre in the right place most graduate institution have career service office where you can get advice on your resume and attend job fair but codeup make you a promise get a job after graduation or get 100 of your money back there are no two way about that our singular focus is your outcome unlike traditional institution we sell job not education 5 messy data this is probably the most important difference between u and traditional degree we use real messy misleading broken data so you learn how to draw insight from the real thing unfortunately that is not the norm because of the segmented class structure traditional degree have to focus on using data that teach one specific skill at codeup youre always applying your tool to a real deliverable so were able to use real data set that intersect the challenge of multiple skill lastly we encourage you to think about the return on your investment in your education codeup private master 29500 6 month 85 graduation rate 88 employment rate 67500 median starting salary 62280 1824 month 61 graduation rate 725 employment rate 59866 median starting salary read more on our outcome most importantly the opportunity cost of pursuing a master degree is equal to 1319 month of employment at a median salary of 67500 from codeup thats between 67500101250 in foregone earnings so you want a career in data science a career accelerator like codeup is the path for you still not convinced were here to hear your concern contact u and let talk it through'"
      ]
     },
     "execution_count": 23,
     "metadata": {},
     "output_type": "execute_result"
    }
   ],
   "source": [
    "lemmatized_string = lemmatize(string)\n",
    "lemmatized_string"
   ]
  },
  {
   "cell_type": "markdown",
   "metadata": {},
   "source": [
    "# 5. Define a function named ```remove_stopwords```. It should accept some text and return the text after removing all the stopwords.\n",
    "\n",
    "# This function should define two optional parameters, ```extra_words``` and ```exclude_words```. These parameters should define any additional stop words to include, and any words that we don't want to remove "
   ]
  },
  {
   "cell_type": "code",
   "execution_count": 24,
   "metadata": {
    "scrolled": true
   },
   "outputs": [
    {
     "data": {
      "text/plain": [
       "['i',\n",
       " 'me',\n",
       " 'my',\n",
       " 'myself',\n",
       " 'we',\n",
       " 'our',\n",
       " 'ours',\n",
       " 'ourselves',\n",
       " 'you',\n",
       " \"you're\",\n",
       " \"you've\",\n",
       " \"you'll\",\n",
       " \"you'd\",\n",
       " 'your',\n",
       " 'yours',\n",
       " 'yourself',\n",
       " 'yourselves',\n",
       " 'he',\n",
       " 'him',\n",
       " 'his',\n",
       " 'himself',\n",
       " 'she',\n",
       " \"she's\",\n",
       " 'her',\n",
       " 'hers',\n",
       " 'herself',\n",
       " 'it',\n",
       " \"it's\",\n",
       " 'its',\n",
       " 'itself',\n",
       " 'they',\n",
       " 'them',\n",
       " 'their',\n",
       " 'theirs',\n",
       " 'themselves',\n",
       " 'what',\n",
       " 'which',\n",
       " 'who',\n",
       " 'whom',\n",
       " 'this',\n",
       " 'that',\n",
       " \"that'll\",\n",
       " 'these',\n",
       " 'those',\n",
       " 'am',\n",
       " 'is',\n",
       " 'are',\n",
       " 'was',\n",
       " 'were',\n",
       " 'be',\n",
       " 'been',\n",
       " 'being',\n",
       " 'have',\n",
       " 'has',\n",
       " 'had',\n",
       " 'having',\n",
       " 'do',\n",
       " 'does',\n",
       " 'did',\n",
       " 'doing',\n",
       " 'a',\n",
       " 'an',\n",
       " 'the',\n",
       " 'and',\n",
       " 'but',\n",
       " 'if',\n",
       " 'or',\n",
       " 'because',\n",
       " 'as',\n",
       " 'until',\n",
       " 'while',\n",
       " 'of',\n",
       " 'at',\n",
       " 'by',\n",
       " 'for',\n",
       " 'with',\n",
       " 'about',\n",
       " 'against',\n",
       " 'between',\n",
       " 'into',\n",
       " 'through',\n",
       " 'during',\n",
       " 'before',\n",
       " 'after',\n",
       " 'above',\n",
       " 'below',\n",
       " 'to',\n",
       " 'from',\n",
       " 'up',\n",
       " 'down',\n",
       " 'in',\n",
       " 'out',\n",
       " 'on',\n",
       " 'off',\n",
       " 'over',\n",
       " 'under',\n",
       " 'again',\n",
       " 'further',\n",
       " 'then',\n",
       " 'once',\n",
       " 'here',\n",
       " 'there',\n",
       " 'when',\n",
       " 'where',\n",
       " 'why',\n",
       " 'how',\n",
       " 'all',\n",
       " 'any',\n",
       " 'both',\n",
       " 'each',\n",
       " 'few',\n",
       " 'more',\n",
       " 'most',\n",
       " 'other',\n",
       " 'some',\n",
       " 'such',\n",
       " 'no',\n",
       " 'nor',\n",
       " 'not',\n",
       " 'only',\n",
       " 'own',\n",
       " 'same',\n",
       " 'so',\n",
       " 'than',\n",
       " 'too',\n",
       " 'very',\n",
       " 's',\n",
       " 't',\n",
       " 'can',\n",
       " 'will',\n",
       " 'just',\n",
       " 'don',\n",
       " \"don't\",\n",
       " 'should',\n",
       " \"should've\",\n",
       " 'now',\n",
       " 'd',\n",
       " 'll',\n",
       " 'm',\n",
       " 'o',\n",
       " 're',\n",
       " 've',\n",
       " 'y',\n",
       " 'ain',\n",
       " 'aren',\n",
       " \"aren't\",\n",
       " 'couldn',\n",
       " \"couldn't\",\n",
       " 'didn',\n",
       " \"didn't\",\n",
       " 'doesn',\n",
       " \"doesn't\",\n",
       " 'hadn',\n",
       " \"hadn't\",\n",
       " 'hasn',\n",
       " \"hasn't\",\n",
       " 'haven',\n",
       " \"haven't\",\n",
       " 'isn',\n",
       " \"isn't\",\n",
       " 'ma',\n",
       " 'mightn',\n",
       " \"mightn't\",\n",
       " 'mustn',\n",
       " \"mustn't\",\n",
       " 'needn',\n",
       " \"needn't\",\n",
       " 'shan',\n",
       " \"shan't\",\n",
       " 'shouldn',\n",
       " \"shouldn't\",\n",
       " 'wasn',\n",
       " \"wasn't\",\n",
       " 'weren',\n",
       " \"weren't\",\n",
       " 'won',\n",
       " \"won't\",\n",
       " 'wouldn',\n",
       " \"wouldn't\"]"
      ]
     },
     "execution_count": 24,
     "metadata": {},
     "output_type": "execute_result"
    }
   ],
   "source": [
    "stopword_list = stopwords.words('english')\n",
    "stopword_list"
   ]
  },
  {
   "cell_type": "code",
   "execution_count": 25,
   "metadata": {},
   "outputs": [],
   "source": [
    "def remove_stopwords(string, extra_words=None, exclude_words=None):\n",
    "    '''\n",
    "    Description:\n",
    "    -----------\n",
    "    This function removes stopwrods from a string.\n",
    "    \n",
    "    Parameters:\n",
    "    ----------\n",
    "    string: str\n",
    "        String to have stopwords removed.\n",
    "    extra_words: str or list\n",
    "        default=None, list of words that you would like to be added to the stopwords list\n",
    "    exclude_words: str or list \n",
    "        default=None, list of words that you would like to remove from the stopwords list\n",
    "        \n",
    "    Example:\n",
    "    -------\n",
    "    Use in list comprehension with a pandas series\n",
    "        list_of_strings = ([stem(string) for string in pd.Series]) \n",
    "    '''\n",
    "    # creates a list of stopwords\n",
    "    stopword_list = stopwords.words('english')\n",
    "    # splits the string into a list of words\n",
    "    words = string.split()\n",
    "    \n",
    "    # if extra_words is set to None don't change anything\n",
    "    if extra_words == None:\n",
    "        stopword_list = stopword_list\n",
    "    # if extra_words is a list, append the individual words in the list\n",
    "    elif type(extra_words) == list:\n",
    "        for word in extra_words:\n",
    "            stopword_list.append(word)\n",
    "    # if extra_words is a string, append the individual word\n",
    "    elif type(extra_words) == str:\n",
    "        stopword_list.append(extra_words)\n",
    "    # somethings wrong text\n",
    "    else:\n",
    "        print('extra_words should be a string or a list')\n",
    "    \n",
    "    \n",
    "    # if exclude_words is set to None don't change anything\n",
    "    if exclude_words == None:\n",
    "        stopword_list = stopword_list\n",
    "    # if exclude_words is a list, append the individual words in the list\n",
    "    elif type(exclude_words) == list:\n",
    "        for word in exclude_words:\n",
    "            stopword_list.remove(word)\n",
    "    # if exclude_words is a string, append the individual word\n",
    "    elif type(exclude_words) == str:\n",
    "        stopword_list.remove(exclude_words)\n",
    "    # something's wrong text\n",
    "    else:\n",
    "        print('exclude_words should be a list')\n",
    "    \n",
    "    # filters out stopwords from string\n",
    "    filtered_words = [word for word in words if word not in stopword_list]\n",
    "    # rejoins the string \n",
    "    string_without_stopwords = ' '.join(filtered_words)\n",
    "    \n",
    "    \n",
    "    return string_without_stopwords"
   ]
  },
  {
   "cell_type": "code",
   "execution_count": 66,
   "metadata": {},
   "outputs": [],
   "source": [
    "string = clean_and_toke(string)"
   ]
  },
  {
   "cell_type": "code",
   "execution_count": 67,
   "metadata": {},
   "outputs": [],
   "source": [
    "extra_words = ['blog', 'best', 'path' ,'career', 'software', 'development']\n",
    "exclude_words = ['in','our']"
   ]
  },
  {
   "cell_type": "code",
   "execution_count": 68,
   "metadata": {
    "scrolled": true
   },
   "outputs": [
    {
     "data": {
      "text/plain": [
       "'blog best path career software development looked bootcamps provide direct path career traditional undergraduate cs degree programs today talk bootcamps provide direct path career data science masters degree dont need degree get job data scientist nontraditional educational model hear concern lot answer yes yes jobs data science require form higher education degree doesnt something related data science data scientists degrees many different areas study concern lacking piece paper prevent accelerating career fear masters degree provides lot value isnt direct path job exponential growth data generation race keep storing processing data data science longer sits fringe ultraspecialized workforce companies need much larger teams analyze model leverage data theyve collected field data science might available skilled highly academic algorithm development playground python skills know find valuable insights mess data lets get bit specific modern roles data science demand practical skills bootcamp better path 1 responsive curriculum barely 10 years ago nobody heard data science short amount time tools technologies field grown exponentially year sees introduction new packages visualization tools cutting edge technologies rapidly evolving landscape hard traditional learning environments keep pace ears tuned directly employers able adapt quickly ensure teaching hiring managers need 2 handson projectbased learning ever watched top chef great british bake probably pretty entertained seared ahi tuna orange mint avocado salsa balsamic vinegar reduced amusebouche turn sad reality watching experts thing doesnt make expert listening lectures program built around concept praxis essentially practical application theory blending theory practice half 670 program hours spent actually writing code develop muscle memory experience programming career data science like oldtime trade like becoming blacksmith learn masters practice practice practice 3 progressive curriculum structure traditional degree students study taking several classes time may begin data structures algorithms move sql take python realworld data science doesnt work neatly never face project youre working one tools pedagogical method misaligned career demands program focuses realworld deliverables every step journey exposing increasingly complex problems projects start applying basic tools simple challenges begin varying data sets way access data type methodology use deliverable youre responsible put simply structure traditional degree teaches use hammer saw chisel codeup teaches build stool birdbox sculpture tools use 4 job placement services education goal stop reading career goal youre right place graduate institutions career service offices get advice resume attend job fairs codeup makes promise get job graduation get 100 money back two ways singular focus outcome unlike traditional institutions sell jobs education 5 messy data probably important difference us traditional degrees use real messy misleading broken data learn draw insights real thing unfortunately norm segmented class structure traditional degrees focus using data teach one specific skill codeup youre always applying tools real deliverable able use real data sets intersect challenges multiple skills lastly encourage think return investment education codeup private masters 29500 6 months 85 graduation rate 88 employment rate 67500 median starting salary 62280 1824 months 61 graduation rate 725 employment rate 59866 median starting salary read outcomes importantly opportunity cost pursuing masters degree equal 1319 months employment median salary 67500 codeup thats 67500101250 foregone earnings want career data science career accelerator like codeup path still convinced hear concerns contact us lets talk'"
      ]
     },
     "execution_count": 68,
     "metadata": {},
     "output_type": "execute_result"
    }
   ],
   "source": [
    "string_without_stopwords = remove_stopwords(string)\n",
    "string_without_stopwords"
   ]
  },
  {
   "cell_type": "code",
   "execution_count": 69,
   "metadata": {
    "scrolled": true
   },
   "outputs": [
    {
     "data": {
      "text/plain": [
       "'in our in looked bootcamps provide direct traditional undergraduate cs degree programs today talk bootcamps provide direct in data science masters degree dont need degree get job data scientist nontraditional educational model hear concern lot answer yes yes jobs in data science require form higher education degree doesnt in something related data science data scientists degrees in many different areas study concern lacking piece paper prevent accelerating fear masters degree provides lot value isnt direct job exponential growth in data generation race keep storing processing data data science longer sits fringe ultraspecialized workforce companies need much larger teams analyze model leverage data theyve collected field data science might available skilled in highly academic algorithm playground python skills know find valuable insights in mess data lets get bit specific modern roles in data science demand practical skills bootcamp better 1 responsive curriculum barely 10 years ago nobody heard data science in short amount time tools technologies in field grown exponentially year sees introduction new packages visualization tools cutting edge technologies rapidly evolving landscape hard traditional learning environments keep pace our ears tuned directly employers able adapt quickly ensure teaching hiring managers need 2 handson projectbased learning ever watched top chef great british bake probably pretty entertained seared ahi tuna orange mint avocado salsa balsamic vinegar reduced amusebouche turn sad reality watching experts thing doesnt make expert listening lectures our program built around concept praxis essentially practical application theory blending theory practice half 670 program hours spent actually writing code develop muscle memory experience programming in data science like oldtime trade like becoming blacksmith learn masters practice practice practice 3 progressive curriculum structure in traditional degree students study taking several classes time may begin data structures algorithms move sql take python realworld data science doesnt work neatly never face project youre working one tools pedagogical method misaligned demands our program focuses realworld deliverables every step journey exposing increasingly complex problems projects start applying basic tools simple challenges begin varying data sets way access data type methodology use deliverable youre responsible put simply structure traditional degree teaches use hammer saw chisel codeup teaches build stool birdbox sculpture tools use 4 job placement services education goal stop reading goal youre in right place graduate institutions service offices get advice resume attend job fairs codeup makes promise get job graduation get 100 money back two ways our singular focus outcome unlike traditional institutions sell jobs education 5 messy data probably important difference us traditional degrees use real messy misleading broken data learn draw insights real thing unfortunately norm segmented class structure traditional degrees focus using data teach one specific skill codeup youre always applying tools real deliverable able use real data sets intersect challenges multiple skills lastly encourage think return investment in education codeup private masters 29500 6 months 85 graduation rate 88 employment rate 67500 median starting salary 62280 1824 months 61 graduation rate 725 employment rate 59866 median starting salary read our outcomes importantly opportunity cost pursuing masters degree equal 1319 months employment median salary 67500 codeup thats 67500101250 in foregone earnings want in data science accelerator like codeup still convinced hear concerns contact us lets talk'"
      ]
     },
     "execution_count": 69,
     "metadata": {},
     "output_type": "execute_result"
    }
   ],
   "source": [
    "remove_stopwords(string, extra_words, exclude_words)"
   ]
  },
  {
   "cell_type": "code",
   "execution_count": 70,
   "metadata": {
    "scrolled": true
   },
   "outputs": [
    {
     "data": {
      "text/plain": [
       "'our best path career software development looked bootcamps provide direct path career traditional undergraduate cs degree programs today talk bootcamps provide direct path career data science masters degree dont need degree get job data scientist nontraditional educational model hear concern lot answer yes yes jobs data science require form higher education degree doesnt something related data science data scientists degrees many different areas study concern lacking piece paper prevent accelerating career fear masters degree provides lot value isnt direct path job exponential growth data generation race keep storing processing data data science longer sits fringe ultraspecialized workforce companies need much larger teams analyze model leverage data theyve collected field data science might available skilled highly academic algorithm development playground python skills know find valuable insights mess data lets get bit specific modern roles data science demand practical skills bootcamp better path 1 responsive curriculum barely 10 years ago nobody heard data science short amount time tools technologies field grown exponentially year sees introduction new packages visualization tools cutting edge technologies rapidly evolving landscape hard traditional learning environments keep pace our ears tuned directly employers able adapt quickly ensure teaching hiring managers need 2 handson projectbased learning ever watched top chef great british bake probably pretty entertained seared ahi tuna orange mint avocado salsa balsamic vinegar reduced amusebouche turn sad reality watching experts thing doesnt make expert listening lectures our program built around concept praxis essentially practical application theory blending theory practice half 670 program hours spent actually writing code develop muscle memory experience programming career data science like oldtime trade like becoming blacksmith learn masters practice practice practice 3 progressive curriculum structure traditional degree students study taking several classes time may begin data structures algorithms move sql take python realworld data science doesnt work neatly never face project youre working one tools pedagogical method misaligned career demands our program focuses realworld deliverables every step journey exposing increasingly complex problems projects start applying basic tools simple challenges begin varying data sets way access data type methodology use deliverable youre responsible put simply structure traditional degree teaches use hammer saw chisel codeup teaches build stool birdbox sculpture tools use 4 job placement services education goal stop reading career goal youre right place graduate institutions career service offices get advice resume attend job fairs codeup makes promise get job graduation get 100 money back two ways our singular focus outcome unlike traditional institutions sell jobs education 5 messy data probably important difference us traditional degrees use real messy misleading broken data learn draw insights real thing unfortunately norm segmented class structure traditional degrees focus using data teach one specific skill codeup youre always applying tools real deliverable able use real data sets intersect challenges multiple skills lastly encourage think return investment education codeup private masters 29500 6 months 85 graduation rate 88 employment rate 67500 median starting salary 62280 1824 months 61 graduation rate 725 employment rate 59866 median starting salary read our outcomes importantly opportunity cost pursuing masters degree equal 1319 months employment median salary 67500 codeup thats 67500101250 foregone earnings want career data science career accelerator like codeup path still convinced hear concerns contact us lets talk'"
      ]
     },
     "execution_count": 70,
     "metadata": {},
     "output_type": "execute_result"
    }
   ],
   "source": [
    "remove_stopwords(string, extra_words='blog', exclude_words='our')"
   ]
  },
  {
   "cell_type": "markdown",
   "metadata": {},
   "source": [
    "# 6. Use your data from the acquire to produce a dataframe of the news articles. Name the dataframe ```news_df```"
   ]
  },
  {
   "cell_type": "markdown",
   "metadata": {},
   "source": [
    "# 7. Make another dataframe for the Codeup blog posts. Name the dataframe ```codeup_df```. "
   ]
  },
  {
   "cell_type": "code",
   "execution_count": 30,
   "metadata": {},
   "outputs": [],
   "source": [
    "categories = ['india',\n",
    "'business',\n",
    "'sports',\n",
    "'world',\n",
    "'politics',\n",
    "'technology',\n",
    "'startup',\n",
    "'entertainment',\n",
    "'miscellaneous',\n",
    "'hatke',\n",
    "'science',\n",
    "'automobile']"
   ]
  },
  {
   "cell_type": "code",
   "execution_count": 31,
   "metadata": {},
   "outputs": [
    {
     "name": "stderr",
     "output_type": "stream",
     "text": [
      "/Users/matthewdalton/codeup-data-science/natural-language-processing-exercises/acquire.py:128: GuessedAtParserWarning: No parser was explicitly specified, so I'm using the best available HTML parser for this system (\"lxml\"). This usually isn't a problem, but if you run this code on another system, or in a different virtual environment, it may use a different parser and behave differently.\n",
      "\n",
      "The code that caused this warning is on line 128 of the file /Users/matthewdalton/codeup-data-science/natural-language-processing-exercises/acquire.py. To get rid of this warning, pass the additional argument 'features=\"lxml\"' to the BeautifulSoup constructor.\n",
      "\n",
      "  soup = bs4.BeautifulSoup(html)\n"
     ]
    }
   ],
   "source": [
    "news_df = a.get_inshorts_articles(categories)"
   ]
  },
  {
   "cell_type": "code",
   "execution_count": 32,
   "metadata": {},
   "outputs": [
    {
     "data": {
      "text/plain": [
       "(281, 5)"
      ]
     },
     "execution_count": 32,
     "metadata": {},
     "output_type": "execute_result"
    }
   ],
   "source": [
    "news_df.shape"
   ]
  },
  {
   "cell_type": "code",
   "execution_count": 33,
   "metadata": {},
   "outputs": [
    {
     "data": {
      "text/html": [
       "<div>\n",
       "<style scoped>\n",
       "    .dataframe tbody tr th:only-of-type {\n",
       "        vertical-align: middle;\n",
       "    }\n",
       "\n",
       "    .dataframe tbody tr th {\n",
       "        vertical-align: top;\n",
       "    }\n",
       "\n",
       "    .dataframe thead th {\n",
       "        text-align: right;\n",
       "    }\n",
       "</style>\n",
       "<table border=\"1\" class=\"dataframe\">\n",
       "  <thead>\n",
       "    <tr style=\"text-align: right;\">\n",
       "      <th></th>\n",
       "      <th>title</th>\n",
       "      <th>body</th>\n",
       "      <th>author</th>\n",
       "      <th>date_modified</th>\n",
       "      <th>time_modified</th>\n",
       "    </tr>\n",
       "  </thead>\n",
       "  <tbody>\n",
       "    <tr>\n",
       "      <th>0</th>\n",
       "      <td>Samsung launches Galaxy Star 2 Plus at Rs.7,335</td>\n",
       "      <td>Samsung has unveiled the Galaxy start 2 Plus s...</td>\n",
       "      <td>Sumedha Sehra</td>\n",
       "      <td>29 Jul 2014,Tuesday</td>\n",
       "      <td>06:52 pm</td>\n",
       "    </tr>\n",
       "    <tr>\n",
       "      <th>1</th>\n",
       "      <td>Bharti Airtel rakes in 61% profit</td>\n",
       "      <td>Bharti Airtel, India's top telecommunications ...</td>\n",
       "      <td>Sumedha Sehra</td>\n",
       "      <td>29 Jul 2014,Tuesday</td>\n",
       "      <td>06:53 pm</td>\n",
       "    </tr>\n",
       "    <tr>\n",
       "      <th>2</th>\n",
       "      <td>Infosys Gifts Sikka Shares Worth Rs 8.2cr</td>\n",
       "      <td>In a regulatory filing to the BSE on Friday, I...</td>\n",
       "      <td>Tanya Mathur</td>\n",
       "      <td>24 Aug 2014,Sunday</td>\n",
       "      <td>10:55 pm</td>\n",
       "    </tr>\n",
       "    <tr>\n",
       "      <th>3</th>\n",
       "      <td>Afghanistan wins SAFF title, spoils India's ha...</td>\n",
       "      <td>Afghanistan won their maiden-SAFF Football Cha...</td>\n",
       "      <td>Amit Kunal</td>\n",
       "      <td>12 Sep 2013,Thursday</td>\n",
       "      <td>01:42 pm</td>\n",
       "    </tr>\n",
       "    <tr>\n",
       "      <th>4</th>\n",
       "      <td>Kashmir's famous Dal Lake freezes</td>\n",
       "      <td>After the recent snowfall in upper reaches of ...</td>\n",
       "      <td>Sunny Setia</td>\n",
       "      <td>16 Dec 2013,Monday</td>\n",
       "      <td>01:10 am</td>\n",
       "    </tr>\n",
       "  </tbody>\n",
       "</table>\n",
       "</div>"
      ],
      "text/plain": [
       "                                               title  \\\n",
       "0    Samsung launches Galaxy Star 2 Plus at Rs.7,335   \n",
       "1                  Bharti Airtel rakes in 61% profit   \n",
       "2          Infosys Gifts Sikka Shares Worth Rs 8.2cr   \n",
       "3  Afghanistan wins SAFF title, spoils India's ha...   \n",
       "4                  Kashmir's famous Dal Lake freezes   \n",
       "\n",
       "                                                body         author  \\\n",
       "0  Samsung has unveiled the Galaxy start 2 Plus s...  Sumedha Sehra   \n",
       "1  Bharti Airtel, India's top telecommunications ...  Sumedha Sehra   \n",
       "2  In a regulatory filing to the BSE on Friday, I...   Tanya Mathur   \n",
       "3  Afghanistan won their maiden-SAFF Football Cha...     Amit Kunal   \n",
       "4  After the recent snowfall in upper reaches of ...    Sunny Setia   \n",
       "\n",
       "          date_modified time_modified  \n",
       "0   29 Jul 2014,Tuesday      06:52 pm  \n",
       "1   29 Jul 2014,Tuesday      06:53 pm  \n",
       "2    24 Aug 2014,Sunday      10:55 pm  \n",
       "3  12 Sep 2013,Thursday      01:42 pm  \n",
       "4    16 Dec 2013,Monday      01:10 am  "
      ]
     },
     "execution_count": 33,
     "metadata": {},
     "output_type": "execute_result"
    }
   ],
   "source": [
    "news_df.head()"
   ]
  },
  {
   "cell_type": "code",
   "execution_count": 34,
   "metadata": {},
   "outputs": [],
   "source": [
    "codeup_df = pd.read_csv('codeup_blogs.csv').drop(columns='Unnamed: 0')"
   ]
  },
  {
   "cell_type": "code",
   "execution_count": 35,
   "metadata": {},
   "outputs": [],
   "source": [
    "codeup_df.rename(columns={'body': 'original'}, inplace=True)"
   ]
  },
  {
   "cell_type": "markdown",
   "metadata": {},
   "source": [
    "# 8. For each dataframe, produce the following columns:\n",
    "\n",
    "### - ```title``` to hold the title\n",
    "### - ```original``` to hold the original article/post content\n",
    "### - ```clean``` to hold the normalized and tokenized original with the stopwords removed.\n",
    "### - ```stemmed``` to hold the stemmed version of the cleaned data.\n",
    "### - ```lemmatized``` to hold the lemmatized version of the cleaned data."
   ]
  },
  {
   "cell_type": "code",
   "execution_count": 36,
   "metadata": {},
   "outputs": [],
   "source": [
    "codeup_df['clean'] = pd.Series([basic_clean(string) for string in codeup_df.original])"
   ]
  },
  {
   "cell_type": "code",
   "execution_count": 37,
   "metadata": {},
   "outputs": [
    {
     "data": {
      "text/html": [
       "<div>\n",
       "<style scoped>\n",
       "    .dataframe tbody tr th:only-of-type {\n",
       "        vertical-align: middle;\n",
       "    }\n",
       "\n",
       "    .dataframe tbody tr th {\n",
       "        vertical-align: top;\n",
       "    }\n",
       "\n",
       "    .dataframe thead th {\n",
       "        text-align: right;\n",
       "    }\n",
       "</style>\n",
       "<table border=\"1\" class=\"dataframe\">\n",
       "  <thead>\n",
       "    <tr style=\"text-align: right;\">\n",
       "      <th></th>\n",
       "      <th>title</th>\n",
       "      <th>original</th>\n",
       "      <th>clean</th>\n",
       "    </tr>\n",
       "  </thead>\n",
       "  <tbody>\n",
       "    <tr>\n",
       "      <th>0</th>\n",
       "      <td>The Best Path to a Career in Data Science</td>\n",
       "      <td>In our blog, “The Best Path To A Career In Sof...</td>\n",
       "      <td>in our blog the best path to a career in softw...</td>\n",
       "    </tr>\n",
       "    <tr>\n",
       "      <th>1</th>\n",
       "      <td>Hey Dallas, Meet Your Software Development Men...</td>\n",
       "      <td>We may be new to town here in Dallas, but Code...</td>\n",
       "      <td>we may be new to town here in dallas but codeu...</td>\n",
       "    </tr>\n",
       "    <tr>\n",
       "      <th>2</th>\n",
       "      <td>5 Tools Every Programmer Should Use</td>\n",
       "      <td>5 Tools Every Programmer Should Use\\nEvery tra...</td>\n",
       "      <td>5 tools every programmer should use every trad...</td>\n",
       "    </tr>\n",
       "    <tr>\n",
       "      <th>3</th>\n",
       "      <td>How I Went From Codeup to Business Owner</td>\n",
       "      <td>Out of college, I was a bit of a mess. That’s ...</td>\n",
       "      <td>out of college i was a bit of a mess thats wha...</td>\n",
       "    </tr>\n",
       "    <tr>\n",
       "      <th>4</th>\n",
       "      <td>How Codeup Paid Off for Both Employee and Empl...</td>\n",
       "      <td>After graduating from Codeup in 2016, Stan H. ...</td>\n",
       "      <td>after graduating from codeup in 2016 stan h wa...</td>\n",
       "    </tr>\n",
       "  </tbody>\n",
       "</table>\n",
       "</div>"
      ],
      "text/plain": [
       "                                               title  \\\n",
       "0          The Best Path to a Career in Data Science   \n",
       "1  Hey Dallas, Meet Your Software Development Men...   \n",
       "2                5 Tools Every Programmer Should Use   \n",
       "3           How I Went From Codeup to Business Owner   \n",
       "4  How Codeup Paid Off for Both Employee and Empl...   \n",
       "\n",
       "                                            original  \\\n",
       "0  In our blog, “The Best Path To A Career In Sof...   \n",
       "1  We may be new to town here in Dallas, but Code...   \n",
       "2  5 Tools Every Programmer Should Use\\nEvery tra...   \n",
       "3  Out of college, I was a bit of a mess. That’s ...   \n",
       "4  After graduating from Codeup in 2016, Stan H. ...   \n",
       "\n",
       "                                               clean  \n",
       "0  in our blog the best path to a career in softw...  \n",
       "1  we may be new to town here in dallas but codeu...  \n",
       "2  5 tools every programmer should use every trad...  \n",
       "3  out of college i was a bit of a mess thats wha...  \n",
       "4  after graduating from codeup in 2016 stan h wa...  "
      ]
     },
     "execution_count": 37,
     "metadata": {},
     "output_type": "execute_result"
    }
   ],
   "source": [
    "codeup_df.head()"
   ]
  },
  {
   "cell_type": "code",
   "execution_count": 38,
   "metadata": {},
   "outputs": [],
   "source": [
    "codeup_df['clean'] = pd.Series([tokenize(string) for string in codeup_df.clean])"
   ]
  },
  {
   "cell_type": "code",
   "execution_count": 39,
   "metadata": {},
   "outputs": [
    {
     "data": {
      "text/html": [
       "<div>\n",
       "<style scoped>\n",
       "    .dataframe tbody tr th:only-of-type {\n",
       "        vertical-align: middle;\n",
       "    }\n",
       "\n",
       "    .dataframe tbody tr th {\n",
       "        vertical-align: top;\n",
       "    }\n",
       "\n",
       "    .dataframe thead th {\n",
       "        text-align: right;\n",
       "    }\n",
       "</style>\n",
       "<table border=\"1\" class=\"dataframe\">\n",
       "  <thead>\n",
       "    <tr style=\"text-align: right;\">\n",
       "      <th></th>\n",
       "      <th>title</th>\n",
       "      <th>original</th>\n",
       "      <th>clean</th>\n",
       "    </tr>\n",
       "  </thead>\n",
       "  <tbody>\n",
       "    <tr>\n",
       "      <th>0</th>\n",
       "      <td>The Best Path to a Career in Data Science</td>\n",
       "      <td>In our blog, “The Best Path To A Career In Sof...</td>\n",
       "      <td>in our blog the best path to a career in softw...</td>\n",
       "    </tr>\n",
       "    <tr>\n",
       "      <th>1</th>\n",
       "      <td>Hey Dallas, Meet Your Software Development Men...</td>\n",
       "      <td>We may be new to town here in Dallas, but Code...</td>\n",
       "      <td>we may be new to town here in dallas but codeu...</td>\n",
       "    </tr>\n",
       "    <tr>\n",
       "      <th>2</th>\n",
       "      <td>5 Tools Every Programmer Should Use</td>\n",
       "      <td>5 Tools Every Programmer Should Use\\nEvery tra...</td>\n",
       "      <td>5 tools every programmer should use every trad...</td>\n",
       "    </tr>\n",
       "    <tr>\n",
       "      <th>3</th>\n",
       "      <td>How I Went From Codeup to Business Owner</td>\n",
       "      <td>Out of college, I was a bit of a mess. That’s ...</td>\n",
       "      <td>out of college i was a bit of a mess thats wha...</td>\n",
       "    </tr>\n",
       "    <tr>\n",
       "      <th>4</th>\n",
       "      <td>How Codeup Paid Off for Both Employee and Empl...</td>\n",
       "      <td>After graduating from Codeup in 2016, Stan H. ...</td>\n",
       "      <td>after graduating from codeup in 2016 stan h wa...</td>\n",
       "    </tr>\n",
       "  </tbody>\n",
       "</table>\n",
       "</div>"
      ],
      "text/plain": [
       "                                               title  \\\n",
       "0          The Best Path to a Career in Data Science   \n",
       "1  Hey Dallas, Meet Your Software Development Men...   \n",
       "2                5 Tools Every Programmer Should Use   \n",
       "3           How I Went From Codeup to Business Owner   \n",
       "4  How Codeup Paid Off for Both Employee and Empl...   \n",
       "\n",
       "                                            original  \\\n",
       "0  In our blog, “The Best Path To A Career In Sof...   \n",
       "1  We may be new to town here in Dallas, but Code...   \n",
       "2  5 Tools Every Programmer Should Use\\nEvery tra...   \n",
       "3  Out of college, I was a bit of a mess. That’s ...   \n",
       "4  After graduating from Codeup in 2016, Stan H. ...   \n",
       "\n",
       "                                               clean  \n",
       "0  in our blog the best path to a career in softw...  \n",
       "1  we may be new to town here in dallas but codeu...  \n",
       "2  5 tools every programmer should use every trad...  \n",
       "3  out of college i was a bit of a mess thats wha...  \n",
       "4  after graduating from codeup in 2016 stan h wa...  "
      ]
     },
     "execution_count": 39,
     "metadata": {},
     "output_type": "execute_result"
    }
   ],
   "source": [
    "codeup_df.head()"
   ]
  },
  {
   "cell_type": "code",
   "execution_count": 40,
   "metadata": {},
   "outputs": [],
   "source": [
    "codeup_df['stemmed'] = pd.Series([stem(string) for string in codeup_df.clean])"
   ]
  },
  {
   "cell_type": "code",
   "execution_count": 41,
   "metadata": {},
   "outputs": [],
   "source": [
    "codeup_df['lemmatized'] = pd.Series([lemmatize(string) for string in codeup_df.clean])"
   ]
  },
  {
   "cell_type": "code",
   "execution_count": 42,
   "metadata": {},
   "outputs": [
    {
     "data": {
      "text/html": [
       "<div>\n",
       "<style scoped>\n",
       "    .dataframe tbody tr th:only-of-type {\n",
       "        vertical-align: middle;\n",
       "    }\n",
       "\n",
       "    .dataframe tbody tr th {\n",
       "        vertical-align: top;\n",
       "    }\n",
       "\n",
       "    .dataframe thead th {\n",
       "        text-align: right;\n",
       "    }\n",
       "</style>\n",
       "<table border=\"1\" class=\"dataframe\">\n",
       "  <thead>\n",
       "    <tr style=\"text-align: right;\">\n",
       "      <th></th>\n",
       "      <th>title</th>\n",
       "      <th>original</th>\n",
       "      <th>clean</th>\n",
       "      <th>stemmed</th>\n",
       "      <th>lemmatized</th>\n",
       "    </tr>\n",
       "  </thead>\n",
       "  <tbody>\n",
       "    <tr>\n",
       "      <th>0</th>\n",
       "      <td>The Best Path to a Career in Data Science</td>\n",
       "      <td>In our blog, “The Best Path To A Career In Sof...</td>\n",
       "      <td>in our blog the best path to a career in softw...</td>\n",
       "      <td>in our blog the best path to a career in softw...</td>\n",
       "      <td>in our blog the best path to a career in softw...</td>\n",
       "    </tr>\n",
       "    <tr>\n",
       "      <th>1</th>\n",
       "      <td>Hey Dallas, Meet Your Software Development Men...</td>\n",
       "      <td>We may be new to town here in Dallas, but Code...</td>\n",
       "      <td>we may be new to town here in dallas but codeu...</td>\n",
       "      <td>we may be new to town here in dalla but codeup...</td>\n",
       "      <td>we may be new to town here in dallas but codeu...</td>\n",
       "    </tr>\n",
       "    <tr>\n",
       "      <th>2</th>\n",
       "      <td>5 Tools Every Programmer Should Use</td>\n",
       "      <td>5 Tools Every Programmer Should Use\\nEvery tra...</td>\n",
       "      <td>5 tools every programmer should use every trad...</td>\n",
       "      <td>5 tool everi programm should use everi trade h...</td>\n",
       "      <td>5 tool every programmer should use every trade...</td>\n",
       "    </tr>\n",
       "    <tr>\n",
       "      <th>3</th>\n",
       "      <td>How I Went From Codeup to Business Owner</td>\n",
       "      <td>Out of college, I was a bit of a mess. That’s ...</td>\n",
       "      <td>out of college i was a bit of a mess thats wha...</td>\n",
       "      <td>out of colleg i wa a bit of a mess that what i...</td>\n",
       "      <td>out of college i wa a bit of a mess thats what...</td>\n",
       "    </tr>\n",
       "    <tr>\n",
       "      <th>4</th>\n",
       "      <td>How Codeup Paid Off for Both Employee and Empl...</td>\n",
       "      <td>After graduating from Codeup in 2016, Stan H. ...</td>\n",
       "      <td>after graduating from codeup in 2016 stan h wa...</td>\n",
       "      <td>after graduat from codeup in 2016 stan h wa hi...</td>\n",
       "      <td>after graduating from codeup in 2016 stan h wa...</td>\n",
       "    </tr>\n",
       "  </tbody>\n",
       "</table>\n",
       "</div>"
      ],
      "text/plain": [
       "                                               title  \\\n",
       "0          The Best Path to a Career in Data Science   \n",
       "1  Hey Dallas, Meet Your Software Development Men...   \n",
       "2                5 Tools Every Programmer Should Use   \n",
       "3           How I Went From Codeup to Business Owner   \n",
       "4  How Codeup Paid Off for Both Employee and Empl...   \n",
       "\n",
       "                                            original  \\\n",
       "0  In our blog, “The Best Path To A Career In Sof...   \n",
       "1  We may be new to town here in Dallas, but Code...   \n",
       "2  5 Tools Every Programmer Should Use\\nEvery tra...   \n",
       "3  Out of college, I was a bit of a mess. That’s ...   \n",
       "4  After graduating from Codeup in 2016, Stan H. ...   \n",
       "\n",
       "                                               clean  \\\n",
       "0  in our blog the best path to a career in softw...   \n",
       "1  we may be new to town here in dallas but codeu...   \n",
       "2  5 tools every programmer should use every trad...   \n",
       "3  out of college i was a bit of a mess thats wha...   \n",
       "4  after graduating from codeup in 2016 stan h wa...   \n",
       "\n",
       "                                             stemmed  \\\n",
       "0  in our blog the best path to a career in softw...   \n",
       "1  we may be new to town here in dalla but codeup...   \n",
       "2  5 tool everi programm should use everi trade h...   \n",
       "3  out of colleg i wa a bit of a mess that what i...   \n",
       "4  after graduat from codeup in 2016 stan h wa hi...   \n",
       "\n",
       "                                          lemmatized  \n",
       "0  in our blog the best path to a career in softw...  \n",
       "1  we may be new to town here in dallas but codeu...  \n",
       "2  5 tool every programmer should use every trade...  \n",
       "3  out of college i wa a bit of a mess thats what...  \n",
       "4  after graduating from codeup in 2016 stan h wa...  "
      ]
     },
     "execution_count": 42,
     "metadata": {},
     "output_type": "execute_result"
    }
   ],
   "source": [
    "codeup_df.head()"
   ]
  },
  {
   "cell_type": "code",
   "execution_count": 43,
   "metadata": {},
   "outputs": [],
   "source": [
    "codeup_df['stemmed_stop'] = pd.Series([remove_stopwords(string) for string in codeup_df.stemmed])"
   ]
  },
  {
   "cell_type": "code",
   "execution_count": 44,
   "metadata": {},
   "outputs": [],
   "source": [
    "codeup_df['lemmatized_stop'] = pd.Series([remove_stopwords(string) for string in codeup_df.lemmatized])"
   ]
  },
  {
   "cell_type": "code",
   "execution_count": 45,
   "metadata": {},
   "outputs": [
    {
     "data": {
      "text/html": [
       "<div>\n",
       "<style scoped>\n",
       "    .dataframe tbody tr th:only-of-type {\n",
       "        vertical-align: middle;\n",
       "    }\n",
       "\n",
       "    .dataframe tbody tr th {\n",
       "        vertical-align: top;\n",
       "    }\n",
       "\n",
       "    .dataframe thead th {\n",
       "        text-align: right;\n",
       "    }\n",
       "</style>\n",
       "<table border=\"1\" class=\"dataframe\">\n",
       "  <thead>\n",
       "    <tr style=\"text-align: right;\">\n",
       "      <th></th>\n",
       "      <th>title</th>\n",
       "      <th>original</th>\n",
       "      <th>clean</th>\n",
       "      <th>stemmed</th>\n",
       "      <th>lemmatized</th>\n",
       "      <th>stemmed_stop</th>\n",
       "      <th>lemmatized_stop</th>\n",
       "    </tr>\n",
       "  </thead>\n",
       "  <tbody>\n",
       "    <tr>\n",
       "      <th>0</th>\n",
       "      <td>The Best Path to a Career in Data Science</td>\n",
       "      <td>In our blog, “The Best Path To A Career In Sof...</td>\n",
       "      <td>in our blog the best path to a career in softw...</td>\n",
       "      <td>in our blog the best path to a career in softw...</td>\n",
       "      <td>in our blog the best path to a career in softw...</td>\n",
       "      <td>blog best path career softwar develop look boo...</td>\n",
       "      <td>blog best path career software development loo...</td>\n",
       "    </tr>\n",
       "    <tr>\n",
       "      <th>1</th>\n",
       "      <td>Hey Dallas, Meet Your Software Development Men...</td>\n",
       "      <td>We may be new to town here in Dallas, but Code...</td>\n",
       "      <td>we may be new to town here in dallas but codeu...</td>\n",
       "      <td>we may be new to town here in dalla but codeup...</td>\n",
       "      <td>we may be new to town here in dallas but codeu...</td>\n",
       "      <td>may new town dalla codeup ha long histori trai...</td>\n",
       "      <td>may new town dallas codeup ha long history tra...</td>\n",
       "    </tr>\n",
       "    <tr>\n",
       "      <th>2</th>\n",
       "      <td>5 Tools Every Programmer Should Use</td>\n",
       "      <td>5 Tools Every Programmer Should Use\\nEvery tra...</td>\n",
       "      <td>5 tools every programmer should use every trad...</td>\n",
       "      <td>5 tool everi programm should use everi trade h...</td>\n",
       "      <td>5 tool every programmer should use every trade...</td>\n",
       "      <td>5 tool everi programm use everi trade ha tool ...</td>\n",
       "      <td>5 tool every programmer use every trade ha too...</td>\n",
       "    </tr>\n",
       "    <tr>\n",
       "      <th>3</th>\n",
       "      <td>How I Went From Codeup to Business Owner</td>\n",
       "      <td>Out of college, I was a bit of a mess. That’s ...</td>\n",
       "      <td>out of college i was a bit of a mess thats wha...</td>\n",
       "      <td>out of colleg i wa a bit of a mess that what i...</td>\n",
       "      <td>out of college i wa a bit of a mess thats what...</td>\n",
       "      <td>colleg wa bit mess would told anyway surfac wa...</td>\n",
       "      <td>college wa bit mess thats would told anyway su...</td>\n",
       "    </tr>\n",
       "    <tr>\n",
       "      <th>4</th>\n",
       "      <td>How Codeup Paid Off for Both Employee and Empl...</td>\n",
       "      <td>After graduating from Codeup in 2016, Stan H. ...</td>\n",
       "      <td>after graduating from codeup in 2016 stan h wa...</td>\n",
       "      <td>after graduat from codeup in 2016 stan h wa hi...</td>\n",
       "      <td>after graduating from codeup in 2016 stan h wa...</td>\n",
       "      <td>graduat codeup 2016 stan h wa hire digit media...</td>\n",
       "      <td>graduating codeup 2016 stan h wa hired digital...</td>\n",
       "    </tr>\n",
       "  </tbody>\n",
       "</table>\n",
       "</div>"
      ],
      "text/plain": [
       "                                               title  \\\n",
       "0          The Best Path to a Career in Data Science   \n",
       "1  Hey Dallas, Meet Your Software Development Men...   \n",
       "2                5 Tools Every Programmer Should Use   \n",
       "3           How I Went From Codeup to Business Owner   \n",
       "4  How Codeup Paid Off for Both Employee and Empl...   \n",
       "\n",
       "                                            original  \\\n",
       "0  In our blog, “The Best Path To A Career In Sof...   \n",
       "1  We may be new to town here in Dallas, but Code...   \n",
       "2  5 Tools Every Programmer Should Use\\nEvery tra...   \n",
       "3  Out of college, I was a bit of a mess. That’s ...   \n",
       "4  After graduating from Codeup in 2016, Stan H. ...   \n",
       "\n",
       "                                               clean  \\\n",
       "0  in our blog the best path to a career in softw...   \n",
       "1  we may be new to town here in dallas but codeu...   \n",
       "2  5 tools every programmer should use every trad...   \n",
       "3  out of college i was a bit of a mess thats wha...   \n",
       "4  after graduating from codeup in 2016 stan h wa...   \n",
       "\n",
       "                                             stemmed  \\\n",
       "0  in our blog the best path to a career in softw...   \n",
       "1  we may be new to town here in dalla but codeup...   \n",
       "2  5 tool everi programm should use everi trade h...   \n",
       "3  out of colleg i wa a bit of a mess that what i...   \n",
       "4  after graduat from codeup in 2016 stan h wa hi...   \n",
       "\n",
       "                                          lemmatized  \\\n",
       "0  in our blog the best path to a career in softw...   \n",
       "1  we may be new to town here in dallas but codeu...   \n",
       "2  5 tool every programmer should use every trade...   \n",
       "3  out of college i wa a bit of a mess thats what...   \n",
       "4  after graduating from codeup in 2016 stan h wa...   \n",
       "\n",
       "                                        stemmed_stop  \\\n",
       "0  blog best path career softwar develop look boo...   \n",
       "1  may new town dalla codeup ha long histori trai...   \n",
       "2  5 tool everi programm use everi trade ha tool ...   \n",
       "3  colleg wa bit mess would told anyway surfac wa...   \n",
       "4  graduat codeup 2016 stan h wa hire digit media...   \n",
       "\n",
       "                                     lemmatized_stop  \n",
       "0  blog best path career software development loo...  \n",
       "1  may new town dallas codeup ha long history tra...  \n",
       "2  5 tool every programmer use every trade ha too...  \n",
       "3  college wa bit mess thats would told anyway su...  \n",
       "4  graduating codeup 2016 stan h wa hired digital...  "
      ]
     },
     "execution_count": 45,
     "metadata": {},
     "output_type": "execute_result"
    }
   ],
   "source": [
    "codeup_df.head()"
   ]
  },
  {
   "cell_type": "code",
   "execution_count": 46,
   "metadata": {},
   "outputs": [],
   "source": [
    "def clean_stem_stop(string):\n",
    "    return remove_stopwords(stem(tokenize(basic_clean(string))))"
   ]
  },
  {
   "cell_type": "code",
   "execution_count": 53,
   "metadata": {
    "scrolled": true
   },
   "outputs": [
    {
     "data": {
      "text/plain": [
       "True"
      ]
     },
     "execution_count": 53,
     "metadata": {},
     "output_type": "execute_result"
    }
   ],
   "source": [
    "clean_stem_stop(string) == codeup_df.stemmed_stop[0]"
   ]
  },
  {
   "cell_type": "code",
   "execution_count": 50,
   "metadata": {},
   "outputs": [],
   "source": [
    "def clean_lem_stop(string):\n",
    "    return remove_stopwords(lemmatize(tokenize(basic_clean(string))))"
   ]
  },
  {
   "cell_type": "code",
   "execution_count": 56,
   "metadata": {
    "scrolled": true
   },
   "outputs": [
    {
     "data": {
      "text/plain": [
       "True"
      ]
     },
     "execution_count": 56,
     "metadata": {},
     "output_type": "execute_result"
    }
   ],
   "source": [
    "clean_lem_stop(string) == codeup_df.lemmatized_stop[0]"
   ]
  },
  {
   "cell_type": "code",
   "execution_count": 57,
   "metadata": {},
   "outputs": [],
   "source": [
    "def clean_and_toke(string):\n",
    "    '''\n",
    "    Desciption:\n",
    "    ----------\n",
    "    This is a one stop function that takes a string and does the following:\n",
    "    cleans: \n",
    "        normalizes it by:\n",
    "        making all text lowercase,\n",
    "        removing special characters,\n",
    "        removing characters that are not alphanumeric, whitespace, or a single quote, and\n",
    "        removing the new line '\\n' indicator\n",
    "    and tokenizes. \n",
    "    '''\n",
    "    return tokenize(basic_clean(string))"
   ]
  },
  {
   "cell_type": "code",
   "execution_count": 58,
   "metadata": {},
   "outputs": [
    {
     "data": {
      "text/html": [
       "<div>\n",
       "<style scoped>\n",
       "    .dataframe tbody tr th:only-of-type {\n",
       "        vertical-align: middle;\n",
       "    }\n",
       "\n",
       "    .dataframe tbody tr th {\n",
       "        vertical-align: top;\n",
       "    }\n",
       "\n",
       "    .dataframe thead th {\n",
       "        text-align: right;\n",
       "    }\n",
       "</style>\n",
       "<table border=\"1\" class=\"dataframe\">\n",
       "  <thead>\n",
       "    <tr style=\"text-align: right;\">\n",
       "      <th></th>\n",
       "      <th>title</th>\n",
       "      <th>body</th>\n",
       "      <th>author</th>\n",
       "      <th>date_modified</th>\n",
       "      <th>time_modified</th>\n",
       "    </tr>\n",
       "  </thead>\n",
       "  <tbody>\n",
       "    <tr>\n",
       "      <th>0</th>\n",
       "      <td>Samsung launches Galaxy Star 2 Plus at Rs.7,335</td>\n",
       "      <td>Samsung has unveiled the Galaxy start 2 Plus s...</td>\n",
       "      <td>Sumedha Sehra</td>\n",
       "      <td>29 Jul 2014,Tuesday</td>\n",
       "      <td>06:52 pm</td>\n",
       "    </tr>\n",
       "    <tr>\n",
       "      <th>1</th>\n",
       "      <td>Bharti Airtel rakes in 61% profit</td>\n",
       "      <td>Bharti Airtel, India's top telecommunications ...</td>\n",
       "      <td>Sumedha Sehra</td>\n",
       "      <td>29 Jul 2014,Tuesday</td>\n",
       "      <td>06:53 pm</td>\n",
       "    </tr>\n",
       "    <tr>\n",
       "      <th>2</th>\n",
       "      <td>Infosys Gifts Sikka Shares Worth Rs 8.2cr</td>\n",
       "      <td>In a regulatory filing to the BSE on Friday, I...</td>\n",
       "      <td>Tanya Mathur</td>\n",
       "      <td>24 Aug 2014,Sunday</td>\n",
       "      <td>10:55 pm</td>\n",
       "    </tr>\n",
       "    <tr>\n",
       "      <th>3</th>\n",
       "      <td>Afghanistan wins SAFF title, spoils India's ha...</td>\n",
       "      <td>Afghanistan won their maiden-SAFF Football Cha...</td>\n",
       "      <td>Amit Kunal</td>\n",
       "      <td>12 Sep 2013,Thursday</td>\n",
       "      <td>01:42 pm</td>\n",
       "    </tr>\n",
       "    <tr>\n",
       "      <th>4</th>\n",
       "      <td>Kashmir's famous Dal Lake freezes</td>\n",
       "      <td>After the recent snowfall in upper reaches of ...</td>\n",
       "      <td>Sunny Setia</td>\n",
       "      <td>16 Dec 2013,Monday</td>\n",
       "      <td>01:10 am</td>\n",
       "    </tr>\n",
       "  </tbody>\n",
       "</table>\n",
       "</div>"
      ],
      "text/plain": [
       "                                               title  \\\n",
       "0    Samsung launches Galaxy Star 2 Plus at Rs.7,335   \n",
       "1                  Bharti Airtel rakes in 61% profit   \n",
       "2          Infosys Gifts Sikka Shares Worth Rs 8.2cr   \n",
       "3  Afghanistan wins SAFF title, spoils India's ha...   \n",
       "4                  Kashmir's famous Dal Lake freezes   \n",
       "\n",
       "                                                body         author  \\\n",
       "0  Samsung has unveiled the Galaxy start 2 Plus s...  Sumedha Sehra   \n",
       "1  Bharti Airtel, India's top telecommunications ...  Sumedha Sehra   \n",
       "2  In a regulatory filing to the BSE on Friday, I...   Tanya Mathur   \n",
       "3  Afghanistan won their maiden-SAFF Football Cha...     Amit Kunal   \n",
       "4  After the recent snowfall in upper reaches of ...    Sunny Setia   \n",
       "\n",
       "          date_modified time_modified  \n",
       "0   29 Jul 2014,Tuesday      06:52 pm  \n",
       "1   29 Jul 2014,Tuesday      06:53 pm  \n",
       "2    24 Aug 2014,Sunday      10:55 pm  \n",
       "3  12 Sep 2013,Thursday      01:42 pm  \n",
       "4    16 Dec 2013,Monday      01:10 am  "
      ]
     },
     "execution_count": 58,
     "metadata": {},
     "output_type": "execute_result"
    }
   ],
   "source": [
    "news_df.head()"
   ]
  },
  {
   "cell_type": "code",
   "execution_count": 59,
   "metadata": {},
   "outputs": [],
   "source": [
    "news_df.rename(columns={'body': 'original'}, inplace=True)"
   ]
  },
  {
   "cell_type": "code",
   "execution_count": 60,
   "metadata": {},
   "outputs": [],
   "source": [
    "news_df['clean'] = pd.Series([clean_and_toke(string) for string in news_df.original])"
   ]
  },
  {
   "cell_type": "code",
   "execution_count": 62,
   "metadata": {},
   "outputs": [],
   "source": [
    "news_df['stemmed'] = pd.Series([clean_stem_stop(string) for string in news_df.original])"
   ]
  },
  {
   "cell_type": "code",
   "execution_count": 63,
   "metadata": {},
   "outputs": [],
   "source": [
    "news_df['lemmatized'] = pd.Series([clean_lem_stop(string) for string in news_df.original])"
   ]
  },
  {
   "cell_type": "code",
   "execution_count": 64,
   "metadata": {},
   "outputs": [
    {
     "data": {
      "text/html": [
       "<div>\n",
       "<style scoped>\n",
       "    .dataframe tbody tr th:only-of-type {\n",
       "        vertical-align: middle;\n",
       "    }\n",
       "\n",
       "    .dataframe tbody tr th {\n",
       "        vertical-align: top;\n",
       "    }\n",
       "\n",
       "    .dataframe thead th {\n",
       "        text-align: right;\n",
       "    }\n",
       "</style>\n",
       "<table border=\"1\" class=\"dataframe\">\n",
       "  <thead>\n",
       "    <tr style=\"text-align: right;\">\n",
       "      <th></th>\n",
       "      <th>title</th>\n",
       "      <th>original</th>\n",
       "      <th>author</th>\n",
       "      <th>date_modified</th>\n",
       "      <th>time_modified</th>\n",
       "      <th>clean</th>\n",
       "      <th>stemmed</th>\n",
       "      <th>lemmatized</th>\n",
       "    </tr>\n",
       "  </thead>\n",
       "  <tbody>\n",
       "    <tr>\n",
       "      <th>0</th>\n",
       "      <td>Samsung launches Galaxy Star 2 Plus at Rs.7,335</td>\n",
       "      <td>Samsung has unveiled the Galaxy start 2 Plus s...</td>\n",
       "      <td>Sumedha Sehra</td>\n",
       "      <td>29 Jul 2014,Tuesday</td>\n",
       "      <td>06:52 pm</td>\n",
       "      <td>samsung has unveiled the galaxy start 2 plus s...</td>\n",
       "      <td>samsung ha unveil galaxi start 2 plu smartphon...</td>\n",
       "      <td>samsung ha unveiled galaxy start 2 plus smartp...</td>\n",
       "    </tr>\n",
       "    <tr>\n",
       "      <th>1</th>\n",
       "      <td>Bharti Airtel rakes in 61% profit</td>\n",
       "      <td>Bharti Airtel, India's top telecommunications ...</td>\n",
       "      <td>Sumedha Sehra</td>\n",
       "      <td>29 Jul 2014,Tuesday</td>\n",
       "      <td>06:53 pm</td>\n",
       "      <td>bharti airtel india ' s top telecommunications...</td>\n",
       "      <td>bharti airtel india ' top telecommun compani h...</td>\n",
       "      <td>bharti airtel india ' top telecommunication co...</td>\n",
       "    </tr>\n",
       "    <tr>\n",
       "      <th>2</th>\n",
       "      <td>Infosys Gifts Sikka Shares Worth Rs 8.2cr</td>\n",
       "      <td>In a regulatory filing to the BSE on Friday, I...</td>\n",
       "      <td>Tanya Mathur</td>\n",
       "      <td>24 Aug 2014,Sunday</td>\n",
       "      <td>10:55 pm</td>\n",
       "      <td>in a regulatory filing to the bse on friday in...</td>\n",
       "      <td>regulatori file bse friday infosi ltd decid gi...</td>\n",
       "      <td>regulatory filing bse friday infosys ltd decid...</td>\n",
       "    </tr>\n",
       "    <tr>\n",
       "      <th>3</th>\n",
       "      <td>Afghanistan wins SAFF title, spoils India's ha...</td>\n",
       "      <td>Afghanistan won their maiden-SAFF Football Cha...</td>\n",
       "      <td>Amit Kunal</td>\n",
       "      <td>12 Sep 2013,Thursday</td>\n",
       "      <td>01:42 pm</td>\n",
       "      <td>afghanistan won their maidensaff football cham...</td>\n",
       "      <td>afghanistan maidensaff footbal championship de...</td>\n",
       "      <td>afghanistan maidensaff football championship d...</td>\n",
       "    </tr>\n",
       "    <tr>\n",
       "      <th>4</th>\n",
       "      <td>Kashmir's famous Dal Lake freezes</td>\n",
       "      <td>After the recent snowfall in upper reaches of ...</td>\n",
       "      <td>Sunny Setia</td>\n",
       "      <td>16 Dec 2013,Monday</td>\n",
       "      <td>01:10 am</td>\n",
       "      <td>after the recent snowfall in upper reaches of ...</td>\n",
       "      <td>recent snowfal upper reach kashmir himalayan p...</td>\n",
       "      <td>recent snowfall upper reach kashmir himalayan ...</td>\n",
       "    </tr>\n",
       "  </tbody>\n",
       "</table>\n",
       "</div>"
      ],
      "text/plain": [
       "                                               title  \\\n",
       "0    Samsung launches Galaxy Star 2 Plus at Rs.7,335   \n",
       "1                  Bharti Airtel rakes in 61% profit   \n",
       "2          Infosys Gifts Sikka Shares Worth Rs 8.2cr   \n",
       "3  Afghanistan wins SAFF title, spoils India's ha...   \n",
       "4                  Kashmir's famous Dal Lake freezes   \n",
       "\n",
       "                                            original         author  \\\n",
       "0  Samsung has unveiled the Galaxy start 2 Plus s...  Sumedha Sehra   \n",
       "1  Bharti Airtel, India's top telecommunications ...  Sumedha Sehra   \n",
       "2  In a regulatory filing to the BSE on Friday, I...   Tanya Mathur   \n",
       "3  Afghanistan won their maiden-SAFF Football Cha...     Amit Kunal   \n",
       "4  After the recent snowfall in upper reaches of ...    Sunny Setia   \n",
       "\n",
       "          date_modified time_modified  \\\n",
       "0   29 Jul 2014,Tuesday      06:52 pm   \n",
       "1   29 Jul 2014,Tuesday      06:53 pm   \n",
       "2    24 Aug 2014,Sunday      10:55 pm   \n",
       "3  12 Sep 2013,Thursday      01:42 pm   \n",
       "4    16 Dec 2013,Monday      01:10 am   \n",
       "\n",
       "                                               clean  \\\n",
       "0  samsung has unveiled the galaxy start 2 plus s...   \n",
       "1  bharti airtel india ' s top telecommunications...   \n",
       "2  in a regulatory filing to the bse on friday in...   \n",
       "3  afghanistan won their maidensaff football cham...   \n",
       "4  after the recent snowfall in upper reaches of ...   \n",
       "\n",
       "                                             stemmed  \\\n",
       "0  samsung ha unveil galaxi start 2 plu smartphon...   \n",
       "1  bharti airtel india ' top telecommun compani h...   \n",
       "2  regulatori file bse friday infosi ltd decid gi...   \n",
       "3  afghanistan maidensaff footbal championship de...   \n",
       "4  recent snowfal upper reach kashmir himalayan p...   \n",
       "\n",
       "                                          lemmatized  \n",
       "0  samsung ha unveiled galaxy start 2 plus smartp...  \n",
       "1  bharti airtel india ' top telecommunication co...  \n",
       "2  regulatory filing bse friday infosys ltd decid...  \n",
       "3  afghanistan maidensaff football championship d...  \n",
       "4  recent snowfall upper reach kashmir himalayan ...  "
      ]
     },
     "execution_count": 64,
     "metadata": {},
     "output_type": "execute_result"
    }
   ],
   "source": [
    "news_df.head()"
   ]
  },
  {
   "cell_type": "code",
   "execution_count": null,
   "metadata": {},
   "outputs": [],
   "source": []
  }
 ],
 "metadata": {
  "kernelspec": {
   "display_name": "Python 3",
   "language": "python",
   "name": "python3"
  },
  "language_info": {
   "codemirror_mode": {
    "name": "ipython",
    "version": 3
   },
   "file_extension": ".py",
   "mimetype": "text/x-python",
   "name": "python",
   "nbconvert_exporter": "python",
   "pygments_lexer": "ipython3",
   "version": "3.8.5"
  }
 },
 "nbformat": 4,
 "nbformat_minor": 4
}
